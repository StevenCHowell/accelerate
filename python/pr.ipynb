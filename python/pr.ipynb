{
 "cells": [
  {
   "cell_type": "code",
   "execution_count": 1,
   "metadata": {
    "collapsed": false
   },
   "outputs": [],
   "source": [
    "%load_ext line_profiler"
   ]
  },
  {
   "cell_type": "code",
   "execution_count": 2,
   "metadata": {
    "collapsed": false
   },
   "outputs": [],
   "source": [
    "import os\n",
    "import time"
   ]
  },
  {
   "cell_type": "code",
   "execution_count": 3,
   "metadata": {
    "collapsed": true
   },
   "outputs": [],
   "source": [
    "import numpy as np\n",
    "from scipy.spatial.distance import pdist"
   ]
  },
  {
   "cell_type": "code",
   "execution_count": 4,
   "metadata": {
    "collapsed": true
   },
   "outputs": [],
   "source": [
    "import numba\n",
    "from numba import jit, njit, vectorize, guvectorize"
   ]
  },
  {
   "cell_type": "code",
   "execution_count": 5,
   "metadata": {
    "collapsed": false
   },
   "outputs": [],
   "source": [
    "import bokeh.plotting\n",
    "import bokeh.io\n",
    "bokeh.io.output_file('pr.html')"
   ]
  },
  {
   "cell_type": "code",
   "execution_count": 6,
   "metadata": {
    "collapsed": false
   },
   "outputs": [],
   "source": [
    "from bokeh.palettes import Dark2_7 as palette"
   ]
  },
  {
   "cell_type": "code",
   "execution_count": 7,
   "metadata": {
    "collapsed": false
   },
   "outputs": [
    {
     "name": "stdout",
     "output_type": "stream",
     "text": [
      "/some/path/nl1_nrx1b\n"
     ]
    }
   ],
   "source": [
    "coor_fname = '/some/path/nl1_nrx1b.coor'\n",
    "print(os.path.splitext(coor_fname)[0])"
   ]
  },
  {
   "cell_type": "code",
   "execution_count": 8,
   "metadata": {
    "collapsed": false
   },
   "outputs": [
    {
     "data": {
      "text/plain": [
       "('/some/path', 'nl1_nrx1b.coor')"
      ]
     },
     "execution_count": 8,
     "metadata": {},
     "output_type": "execute_result"
    }
   ],
   "source": [
    "os.path.split(coor_fname)"
   ]
  },
  {
   "cell_type": "code",
   "execution_count": 9,
   "metadata": {
    "collapsed": true
   },
   "outputs": [],
   "source": [
    "coor_fname = 'nl1_nrx1b.coor'\n",
    "coor = np.loadtxt(coor_fname, delimiter=',')\n",
    "out_fname = '{}.pr'.format(os.path.splitext(coor_fname))"
   ]
  },
  {
   "cell_type": "code",
   "execution_count": 10,
   "metadata": {
    "collapsed": false
   },
   "outputs": [],
   "source": [
    "def calc_pr_hist(coor):\n",
    "    # calculate the euclidean distances\n",
    "    dist = pdist(coor)\n",
    "\n",
    "    # bin the distances into P(r)\n",
    "    r_max = dist.max()\n",
    "\n",
    "    n_bins = np.ceil(r_max).astype(int) + 1\n",
    "    bin_edges = np.arange(n_bins + 1) - 0.5\n",
    "    pr = np.empty([n_bins, 2])\n",
    "    pr[:, 0] = np.arange(n_bins) + 1\n",
    "    pr[:, 1], _ = np.histogram(dist, bin_edges)\n",
    "    return pr"
   ]
  },
  {
   "cell_type": "code",
   "execution_count": 25,
   "metadata": {
    "collapsed": false
   },
   "outputs": [],
   "source": [
    "pr0 = calc_pr_hist(coor)"
   ]
  },
  {
   "cell_type": "code",
   "execution_count": 12,
   "metadata": {
    "collapsed": false
   },
   "outputs": [],
   "source": [
    "%lprun -f calc_pr_hist calc_pr_hist(coor)"
   ]
  },
  {
   "cell_type": "markdown",
   "metadata": {},
   "source": [
    "On odin, the histogram function took 13.98 s, or 90.0% of the total time."
   ]
  },
  {
   "cell_type": "code",
   "execution_count": 13,
   "metadata": {
    "collapsed": false
   },
   "outputs": [],
   "source": [
    "def calc_pr_bin(coor):\n",
    "    # calculate the euclidean distances\n",
    "    dist = pdist(coor)\n",
    "\n",
    "    # bin the distances into P(r)\n",
    "    r_max = dist.max()\n",
    "\n",
    "    n_bins = np.ceil(r_max).astype(int) + 1\n",
    "    pr = np.empty([n_bins, 2], dtype=np.int)\n",
    "    pr[:, 0] = np.arange(n_bins) + 1\n",
    "    int_dist = np.round(dist).astype(np.int)\n",
    "    pr[:, 1] = np.bincount(int_dist)\n",
    "    return pr"
   ]
  },
  {
   "cell_type": "code",
   "execution_count": 27,
   "metadata": {
    "collapsed": false
   },
   "outputs": [],
   "source": [
    "pr1 = calc_pr_bin(coor)"
   ]
  },
  {
   "cell_type": "code",
   "execution_count": 15,
   "metadata": {
    "collapsed": false
   },
   "outputs": [],
   "source": [
    "%lprun -f calc_pr_bin calc_pr_bin(coor)"
   ]
  },
  {
   "cell_type": "markdown",
   "metadata": {},
   "source": [
    "On odin, the round function took 2.2 s, 50.1 %, and the bincount function took 0.5 s, 11.5 %.  Total this is 2.7 s or 62.6% of the total time."
   ]
  },
  {
   "cell_type": "code",
   "execution_count": 16,
   "metadata": {
    "collapsed": false
   },
   "outputs": [],
   "source": [
    "@jit(['int64[:], int64[:]',\n",
    "      'float32[:], int64[:]',\n",
    "      'float64[:], int64[:]'],\n",
    "     nopython=True)\n",
    "def jit_hist(distances, pr):\n",
    "    for dist in distances:\n",
    "        pr[round(dist)] += 1"
   ]
  },
  {
   "cell_type": "code",
   "execution_count": 17,
   "metadata": {
    "collapsed": true
   },
   "outputs": [],
   "source": [
    "def jit_calc_pr(coor):\n",
    "    # calculate the euclidean distances\n",
    "    dist = pdist(coor)\n",
    "\n",
    "    # bin the distances into P(r)\n",
    "    r_max = dist.max()\n",
    "    n_bins = np.round(r_max).astype(int) + 1\n",
    "    pr = np.zeros([n_bins, 2], dtype=np.int)\n",
    "    pr[:, 0] = np.arange(n_bins) + 1\n",
    "    jit_hist(dist, pr[:, 1])\n",
    "    return pr"
   ]
  },
  {
   "cell_type": "code",
   "execution_count": 18,
   "metadata": {
    "collapsed": true
   },
   "outputs": [],
   "source": [
    "pr2 = jit_calc_pr(coor)"
   ]
  },
  {
   "cell_type": "code",
   "execution_count": 19,
   "metadata": {
    "collapsed": false
   },
   "outputs": [
    {
     "name": "stdout",
     "output_type": "stream",
     "text": [
      "1 loop, best of 3: 1.97 s per loop\n"
     ]
    }
   ],
   "source": [
    "%timeit pr2 = jit_calc_pr(coor)"
   ]
  },
  {
   "cell_type": "code",
   "execution_count": 20,
   "metadata": {
    "collapsed": true
   },
   "outputs": [],
   "source": [
    "%lprun -f jit_calc_pr jit_calc_pr(coor)"
   ]
  },
  {
   "cell_type": "markdown",
   "metadata": {},
   "source": [
    "On odin, the histogram function took 45.9 s, or 22.9% of the total time."
   ]
  },
  {
   "cell_type": "code",
   "execution_count": 28,
   "metadata": {
    "collapsed": false
   },
   "outputs": [],
   "source": [
    "p = bokeh.plotting.figure()\n",
    "p.square(pr0[:, 0], pr0[:, 1], color=palette[0], legend='np.histogram')\n",
    "p.circle(pr1[:, 0], pr1[:, 1] * 2, color=palette[1], legend='np.bincount')\n",
    "p.circle(pr2[:, 0], pr2[:, 1] * 3, color=palette[2], legend='numba.jit')\n",
    "\n",
    "bokeh.io.show(p)"
   ]
  },
  {
   "cell_type": "code",
   "execution_count": null,
   "metadata": {
    "collapsed": false
   },
   "outputs": [],
   "source": [
    "\n",
    "@numba.jit(['int64[:], int64[:]',\n",
    "      'float32[:], int64[:]',\n",
    "      'float64[:], int64[:]'],\n",
    "     nopython=True)\n",
    "def jit_hist(distances, pr):\n",
    "    for dist in distances:\n",
    "        pr[round(dist)] += 1\n",
    "\n",
    "\n",
    "def calc_pr_numba(coor):\n",
    "    '''\n",
    "    calculate P(r) from an array of coordinates\n",
    "    when written, this was twice as fast as python method\n",
    "    '''\n",
    "    # calculate the euclidean distances\n",
    "    dist = pdist(coor)\n",
    "\n",
    "    # bin the distances into P(r)\n",
    "    r_max = dist.max()\n",
    "    n_bins = np.round(r_max).astype(int) + 1\n",
    "    pr = np.zeros([n_bins, 2], dtype=np.int)\n",
    "    pr[:, 0] = np.arange(n_bins) + 1\n",
    "    jit_histogram(dist, pr[:, 1])\n",
    "\n",
    "    return pr"
   ]
  },
  {
   "cell_type": "code",
   "execution_count": null,
   "metadata": {
    "collapsed": true
   },
   "outputs": [],
   "source": []
  }
 ],
 "metadata": {
  "anaconda-cloud": {},
  "kernelspec": {
   "display_name": "Python [conda env:cuda]",
   "language": "python",
   "name": "conda-env-cuda-py"
  },
  "language_info": {
   "codemirror_mode": {
    "name": "ipython",
    "version": 3
   },
   "file_extension": ".py",
   "mimetype": "text/x-python",
   "name": "python",
   "nbconvert_exporter": "python",
   "pygments_lexer": "ipython3",
   "version": "3.5.2"
  }
 },
 "nbformat": 4,
 "nbformat_minor": 0
}
