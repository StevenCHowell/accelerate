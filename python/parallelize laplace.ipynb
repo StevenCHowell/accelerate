{
 "cells": [
  {
   "cell_type": "markdown",
   "metadata": {},
   "source": [
    "Code adapted from NVIDIA OpenACC example: laplace2d-kernels.c\n",
    "\n",
    "Copyright (c) 2012, NVIDIA CORPORATION. All rights reserved.\n",
    "\n",
    "Redistribution and use in source and binary forms, with or without\n",
    "modification, are permitted provided that the following conditions\n",
    "are met:\n",
    " * Redistributions of source code must retain the above copyright\n",
    "   notice, this list of conditions and the following disclaimer.\n",
    " * Redistributions in binary form must reproduce the above copyright\n",
    "   notice, this list of conditions and the following disclaimer in the\n",
    "   documentation and/or other materials provided with the distribution.\n",
    " * Neither the name of NVIDIA CORPORATION nor the names of its\n",
    "   contributors may be used to endorse or promote products derived\n",
    "   from this software without specific prior written permission.\n",
    "\n",
    "THIS SOFTWARE IS PROVIDED BY THE COPYRIGHT HOLDERS ''AS IS'' AND ANY\n",
    "EXPRESS OR IMPLIED WARRANTIES, INCLUDING, BUT NOT LIMITED TO, THE\n",
    "IMPLIED WARRANTIES OF MERCHANTABILITY AND FITNESS FOR A PARTICULAR\n",
    "PURPOSE ARE DISCLAIMED.  IN NO EVENT SHALL THE COPYRIGHT OWNER OR\n",
    "CONTRIBUTORS BE LIABLE FOR ANY DIRECT, INDIRECT, INCIDENTAL, SPECIAL,\n",
    "EXEMPLARY, OR CONSEQUENTIAL DAMAGES (INCLUDING, BUT NOT LIMITED TO,\n",
    "PROCUREMENT OF SUBSTITUTE GOODS OR SERVICES; LOSS OF USE, DATA, OR\n",
    "PROFITS; OR BUSINESS INTERRUPTION) HOWEVER CAUSED AND ON ANY THEORY\n",
    "OF LIABILITY, WHETHER IN CONTRACT, STRICT LIABILITY, OR TORT\n",
    "(INCLUDING NEGLIGENCE OR OTHERWISE) ARISING IN ANY WAY OUT OF THE USE\n",
    "OF THIS SOFTWARE, EVEN IF ADVISED OF THE POSSIBILITY OF SUCH DAMAGE."
   ]
  },
  {
   "cell_type": "code",
   "execution_count": 1,
   "metadata": {
    "collapsed": false
   },
   "outputs": [],
   "source": [
    "%load_ext line_profiler"
   ]
  },
  {
   "cell_type": "code",
   "execution_count": 2,
   "metadata": {
    "collapsed": true
   },
   "outputs": [],
   "source": [
    "%load_ext snakeviz"
   ]
  },
  {
   "cell_type": "code",
   "execution_count": 3,
   "metadata": {
    "collapsed": true
   },
   "outputs": [],
   "source": [
    "import numpy as np\n",
    "import time"
   ]
  },
  {
   "cell_type": "code",
   "execution_count": 4,
   "metadata": {
    "collapsed": true
   },
   "outputs": [],
   "source": [
    "import pickle"
   ]
  },
  {
   "cell_type": "code",
   "execution_count": 21,
   "metadata": {
    "collapsed": true
   },
   "outputs": [],
   "source": [
    "def np_laplace(n=4096, m=4096, iteration_max = 1000, debug=False):\n",
    "\n",
    "    pi = np.pi\n",
    "    tol = 1.0e-5\n",
    "    error = 1.0\n",
    "\n",
    "    A = np.zeros((n, m))\n",
    "\n",
    "    j_range = np.arange(n)\n",
    "    y0 = np.sin(pi * j_range / (n - 1))\n",
    "    A[:, 0]  = y0\n",
    "    A[:, -1] = y0 * np.exp(-pi)\n",
    "\n",
    "    if debug: print('Jacobi relaxation Calculation: {} x {} mesh\\n'.format(n, m))\n",
    "\n",
    "    tic = time.time()\n",
    "    iteration = 0\n",
    "\n",
    "    Anew = np.copy(A)\n",
    "\n",
    "    while error > tol and iteration < iteration_max:\n",
    "        error = 0.0\n",
    "        Anew[1:-1, 1:-1] = 0.25 * (A[1:-1, 2:] + A[1:-1, :-2] + A[2:, 1:-1] + A[:-2, 1:-1])      \n",
    "        diff = np.abs(Anew[1:-1, 1:-1] - A[1:-1, 1:-1])\n",
    "        error_new = np.max(diff)\n",
    "        if error_new > error:\n",
    "            error = error_new\n",
    "        A[:] = Anew[:]\n",
    "\n",
    "        if debug and not iteration % 100:\n",
    "            print(\"{:5d}, {:0.6f}\\n\".format(iteration, error))\n",
    "\n",
    "        iteration += 1\n",
    "\n",
    "    toc = time.time() - tic\n",
    "\n",
    "    if debug: print(\" total: {} s\\n\".format(toc))\n",
    "    \n",
    "    return A"
   ]
  },
  {
   "cell_type": "code",
   "execution_count": 22,
   "metadata": {
    "collapsed": false
   },
   "outputs": [],
   "source": [
    "res = np_laplace(12, 12)"
   ]
  },
  {
   "cell_type": "code",
   "execution_count": 23,
   "metadata": {
    "collapsed": false
   },
   "outputs": [
    {
     "name": "stdout",
     "output_type": "stream",
     "text": [
      "Jacobi relaxation Calculation: 512 x 512 mesh\n",
      "\n",
      "    0, 0.249999\n",
      "\n",
      "  100, 0.002395\n",
      "\n",
      "  200, 0.001202\n",
      "\n",
      "  300, 0.000801\n",
      "\n",
      "  400, 0.000601\n",
      "\n",
      "  500, 0.000481\n",
      "\n",
      "  600, 0.000400\n",
      "\n",
      "  700, 0.000343\n",
      "\n",
      "  800, 0.000300\n",
      "\n",
      "  900, 0.000266\n",
      "\n",
      " total: 9.027721405029297 s\n",
      "\n"
     ]
    }
   ],
   "source": [
    "%lprun -f np_laplace np_laplace(512,512,debug=True) # do not use spaces, it confuses the profiler"
   ]
  },
  {
   "cell_type": "code",
   "execution_count": null,
   "metadata": {
    "collapsed": false
   },
   "outputs": [],
   "source": [
    "pow_max = 6\n",
    "N = [2 ** val for val in range(2, pow_max)]"
   ]
  },
  {
   "cell_type": "code",
   "execution_count": null,
   "metadata": {
    "collapsed": false
   },
   "outputs": [],
   "source": [
    "N"
   ]
  },
  {
   "cell_type": "code",
   "execution_count": null,
   "metadata": {
    "collapsed": false,
    "scrolled": true
   },
   "outputs": [],
   "source": [
    "np_res = {}\n",
    "for n in N:\n",
    "    res = %timeit -o -n 3 np_laplace(n, n)\n",
    "    np_res[n] = res\n",
    "pickle.dump(np_res, open('np_times.p', 'wb'))"
   ]
  },
  {
   "cell_type": "code",
   "execution_count": null,
   "metadata": {
    "collapsed": false
   },
   "outputs": [],
   "source": [
    "np_res"
   ]
  },
  {
   "cell_type": "markdown",
   "metadata": {},
   "source": [
    "# Adding numba jit decorator"
   ]
  },
  {
   "cell_type": "code",
   "execution_count": 8,
   "metadata": {
    "collapsed": true
   },
   "outputs": [],
   "source": [
    "from numba import jit, njit"
   ]
  },
  {
   "cell_type": "code",
   "execution_count": 9,
   "metadata": {
    "collapsed": false
   },
   "outputs": [],
   "source": [
    "@jit(['float32[:,:], float32[:,:]',\n",
    "      'float64[:,:], float64[:,:]'],\n",
    "      nopython=True)\n",
    "def update_a_jit(A, Anew):\n",
    "    error = 0.0\n",
    "    n, m = A.shape\n",
    "\n",
    "    for j in range(1, n-1):\n",
    "        for i in range(1, m-1):\n",
    "            Anew[j, i] = 0.25 * (A[j, i+1] + A[j, i-1] + A[j-1, i] + A[j+1, i])\n",
    "            error = max(error, abs(Anew[j, i] - A[j, i]))\n",
    "\n",
    "    return Anew, error"
   ]
  },
  {
   "cell_type": "code",
   "execution_count": 10,
   "metadata": {
    "collapsed": false
   },
   "outputs": [],
   "source": [
    "# this did not make much difference\n",
    "@jit(['float32[:,:], float32[:,:]',\n",
    "      'float64[:,:], float64[:,:]'],\n",
    "      nopython=True)\n",
    "def a_to_anew_jit(A, Anew):\n",
    "    error = 0.0\n",
    "    n, m = A.shape\n",
    "    \n",
    "    for j in range(1, n-1):\n",
    "        for i in range(1, m-1):\n",
    "            A[j, i] = Anew[j, i]\n",
    "    \n",
    "    return A"
   ]
  },
  {
   "cell_type": "code",
   "execution_count": 14,
   "metadata": {
    "collapsed": true
   },
   "outputs": [],
   "source": [
    "def jit_laplace(n=4096, m=4096, iteration_max = 1000, debug=False):\n",
    "\n",
    "    pi = np.pi\n",
    "    tol = 1.0e-5\n",
    "    error = 1.0\n",
    "\n",
    "    A = np.zeros((n, m))\n",
    "\n",
    "    j_range = np.arange(n)\n",
    "    y0 = np.sin(pi * j_range / (n - 1))\n",
    "    A[:, 0]  = y0\n",
    "    A[:, -1] = y0 * np.exp(-pi)\n",
    "\n",
    "    if debug: print('Jacobi relaxation Calculation: {} x {} mesh\\n'.format(n, m))\n",
    "\n",
    "    tic = time.time()\n",
    "    iteration = 0\n",
    "\n",
    "    Anew = np.copy(A)\n",
    "\n",
    "    while error > tol and iteration < iteration_max:\n",
    "        Anew, error = update_a_jit(A, Anew)\n",
    "        # A[:] = Anew[:]\n",
    "        A = a_to_anew_jit(A, Anew)  # this was essentially the same as the line above\n",
    "\n",
    "        if debug and not iteration % 100:\n",
    "            print(\"{:5d}, {:0.6f}\\n\".format(iteration, error))\n",
    "\n",
    "        iteration += 1\n",
    "\n",
    "    toc = time.time() - tic\n",
    "\n",
    "    if debug: print(\" total: {} s\\n\".format(toc))\n",
    "    \n",
    "    return A"
   ]
  },
  {
   "cell_type": "code",
   "execution_count": 15,
   "metadata": {
    "collapsed": false
   },
   "outputs": [],
   "source": [
    "res = jit_laplace(512, 512) # once to compile"
   ]
  },
  {
   "cell_type": "code",
   "execution_count": 16,
   "metadata": {
    "collapsed": false
   },
   "outputs": [
    {
     "name": "stdout",
     "output_type": "stream",
     "text": [
      "Jacobi relaxation Calculation: 512 x 512 mesh\n",
      "\n",
      "    0, 0.249999\n",
      "\n",
      "  100, 0.002395\n",
      "\n",
      "  200, 0.001202\n",
      "\n",
      "  300, 0.000801\n",
      "\n",
      "  400, 0.000601\n",
      "\n",
      "  500, 0.000481\n",
      "\n",
      "  600, 0.000400\n",
      "\n",
      "  700, 0.000343\n",
      "\n",
      "  800, 0.000300\n",
      "\n",
      "  900, 0.000266\n",
      "\n",
      " total: 1.4284555912017822 s\n",
      "\n"
     ]
    }
   ],
   "source": [
    "%lprun -f jit_laplace jit_laplace(512,512,debug=True) # do not use spaces, it confuses the profiler"
   ]
  },
  {
   "cell_type": "code",
   "execution_count": null,
   "metadata": {
    "collapsed": false,
    "scrolled": true
   },
   "outputs": [],
   "source": [
    "jit_res = {}\n",
    "for n in N:\n",
    "    res = %timeit -o -n 3 jit_laplace(n, n)\n",
    "    jit_res[n] = res\n",
    "pickle.dump(jit_res, open('jit_times.p', 'wb'))"
   ]
  },
  {
   "cell_type": "markdown",
   "metadata": {},
   "source": [
    "# Implementing `guvectorize`"
   ]
  },
  {
   "cell_type": "code",
   "execution_count": 17,
   "metadata": {
    "collapsed": true
   },
   "outputs": [],
   "source": [
    "from numba import guvectorize"
   ]
  },
  {
   "cell_type": "code",
   "execution_count": null,
   "metadata": {
    "collapsed": true
   },
   "outputs": [],
   "source": [
    "from math import fabs"
   ]
  },
  {
   "cell_type": "markdown",
   "metadata": {},
   "source": [
    "### CPU Vectorization"
   ]
  },
  {
   "cell_type": "code",
   "execution_count": null,
   "metadata": {
    "collapsed": false
   },
   "outputs": [],
   "source": [
    "@guvectorize(['float32[:,:], float32[:,:]',\n",
    "              'float64[:,:], float64[:,:]'],\n",
    "             '(n,m)->(n,m)', nopython=True,\n",
    "             target='cpu')\n",
    "def update_a_serial0(A, Anew):\n",
    "    n, m = A.shape\n",
    "    for j in range(1, n-1):\n",
    "        for i in range(1, m-1):\n",
    "            Anew[j, i] = 0.25 * (A[j, i+1] + A[j, i-1] + A[j-1, i] + A[j+1, i])"
   ]
  },
  {
   "cell_type": "code",
   "execution_count": 51,
   "metadata": {
    "collapsed": false
   },
   "outputs": [],
   "source": [
    "@guvectorize(['float32[:,:], float32[:,:], float32[:]',\n",
    "              'float64[:,:], float64[:,:], float64[:]'],\n",
    "             '(n,m)->(n,m),()', nopython=True, target='cpu')\n",
    "def update_a_serial(A, Anew, error):\n",
    "    n, m = A.shape\n",
    "    for j in range(1, n-1):\n",
    "        for i in range(1, m-1):\n",
    "            Anew[j, i] = 0.25 * (A[j, i+1] + A[j, i-1] + A[j-1, i] + A[j+1, i])\n",
    "\n",
    "            diff = abs(Anew[j, i] - A[j, i])\n",
    "            if diff > error[0]:\n",
    "                error[0] = diff"
   ]
  },
  {
   "cell_type": "code",
   "execution_count": 43,
   "metadata": {
    "collapsed": false
   },
   "outputs": [
    {
     "data": {
      "text/plain": [
       "(0.25, 0.25)"
      ]
     },
     "execution_count": 43,
     "metadata": {},
     "output_type": "execute_result"
    }
   ],
   "source": [
    "A = np.zeros((4,4))\n",
    "A[:, [0, -1]] = 1.0\n",
    "Anew = np.zeros_like(A)\n",
    "error = np.zeros(1)\n",
    "Anew, error = update_a_serial(A, Anew, error)\n",
    "np.max(np.abs(Anew[1:-1, 1:-1] - A[1:-1, 1:-1])), error[0]"
   ]
  },
  {
   "cell_type": "code",
   "execution_count": 52,
   "metadata": {
    "collapsed": false
   },
   "outputs": [],
   "source": [
    "def cpu_laplace(n=4096, m=4096, iteration_max = 1000, debug=False):\n",
    "\n",
    "    pi = np.pi\n",
    "    tol = 1.0e-5\n",
    "    error = np.ones(1)\n",
    "\n",
    "    A = np.zeros((n, m))\n",
    "\n",
    "    j_range = np.arange(n)\n",
    "    y0 = np.sin(pi * j_range / (n - 1))\n",
    "    A[:, 0]  = y0\n",
    "    A[:, -1] = y0 * np.exp(-pi)\n",
    "\n",
    "    print('Jacobi relaxation Calculation: {} x {} mesh\\n'.format(n, m))\n",
    "\n",
    "    tic = time.time()\n",
    "    iteration = 0\n",
    "\n",
    "    Anew = np.copy(A)\n",
    "    while error[0] > tol and iteration < iteration_max:\n",
    "        error[0] = 0.0\n",
    "        Anew, error = update_a_serial(A, Anew, error)\n",
    "        A[:] = Anew[:]\n",
    "\n",
    "        if debug and not iteration % 100:\n",
    "            print(\"{:5d}, {:0.6f}\\n\".format(iteration, error[0]))\n",
    "\n",
    "        iteration += 1\n",
    "\n",
    "    toc = time.time() - tic\n",
    "\n",
    "    print(\" total: {} s\\n\".format(toc))\n",
    "    \n",
    "    return A"
   ]
  },
  {
   "cell_type": "code",
   "execution_count": 53,
   "metadata": {
    "collapsed": false,
    "scrolled": true
   },
   "outputs": [
    {
     "name": "stdout",
     "output_type": "stream",
     "text": [
      "Jacobi relaxation Calculation: 512 x 512 mesh\n",
      "\n",
      " total: 1.2527709007263184 s\n",
      "\n"
     ]
    }
   ],
   "source": [
    "res = cpu_laplace(512, 512)"
   ]
  },
  {
   "cell_type": "code",
   "execution_count": 49,
   "metadata": {
    "collapsed": false
   },
   "outputs": [
    {
     "name": "stdout",
     "output_type": "stream",
     "text": [
      "Jacobi relaxation Calculation: 512 x 512 mesh\n",
      "\n",
      "    0, 0.249999\n",
      "\n",
      "  100, 0.002395\n",
      "\n",
      "  200, 0.001202\n",
      "\n",
      "  300, 0.000801\n",
      "\n",
      "  400, 0.000601\n",
      "\n",
      "  500, 0.000481\n",
      "\n",
      "  600, 0.000400\n",
      "\n",
      "  700, 0.000343\n",
      "\n",
      "  800, 0.000300\n",
      "\n",
      "  900, 0.000266\n",
      "\n",
      " total: 1.5279054641723633 s\n",
      "\n"
     ]
    }
   ],
   "source": [
    "%lprun -f cpu_laplace cpu_laplace(512,512,debug=True) # do not use spaces, it confuses the profiler"
   ]
  },
  {
   "cell_type": "code",
   "execution_count": 60,
   "metadata": {
    "collapsed": false
   },
   "outputs": [
    {
     "name": "stdout",
     "output_type": "stream",
     "text": [
      "Jacobi relaxation Calculation: 1024 x 1024 mesh\n",
      "\n",
      " total: 8.300802230834961 s\n",
      "\n",
      "Jacobi relaxation Calculation: 1024 x 1024 mesh\n",
      "\n",
      " total: 9.532527685165405 s\n",
      "\n",
      "Jacobi relaxation Calculation: 1024 x 1024 mesh\n",
      "\n",
      " total: 9.731838464736938 s\n",
      "\n",
      "Jacobi relaxation Calculation: 1024 x 1024 mesh\n",
      "\n",
      " total: 9.843186378479004 s\n",
      "\n",
      "1 loop, best of 3: 9.54 s per loop\n"
     ]
    }
   ],
   "source": [
    "%timeit cpu_laplace(1024, 1024)"
   ]
  },
  {
   "cell_type": "code",
   "execution_count": null,
   "metadata": {
    "collapsed": false,
    "scrolled": true
   },
   "outputs": [],
   "source": [
    "cpu_res = {}\n",
    "for n in N:\n",
    "    res = %timeit -o -n 3 cpu_laplace(n, n)\n",
    "    cpu_res[n] = res\n",
    "pickle.dump(cpu_res, open('cpu_times.p', 'wb'))"
   ]
  },
  {
   "cell_type": "markdown",
   "metadata": {},
   "source": [
    "### parallel CPU vectorization"
   ]
  },
  {
   "cell_type": "code",
   "execution_count": 55,
   "metadata": {
    "collapsed": false
   },
   "outputs": [],
   "source": [
    "@guvectorize(['float32[:,:], float32[:,:], float32[:]',\n",
    "              'float64[:,:], float64[:,:], float64[:]'],\n",
    "             '(n,m)->(n,m),()', nopython=True, target='parallel')\n",
    "def update_a_parallel(A, Anew, error):\n",
    "    n, m = A.shape\n",
    "    for j in range(1, n-1):\n",
    "        for i in range(1, m-1):\n",
    "            Anew[j, i] = 0.25 * (A[j, i+1] + A[j, i-1] + A[j-1, i] + A[j+1, i])\n",
    "\n",
    "            diff = abs(Anew[j, i] - A[j, i])\n",
    "            if diff > error[0]:\n",
    "                error[0] = diff"
   ]
  },
  {
   "cell_type": "code",
   "execution_count": 56,
   "metadata": {
    "collapsed": false
   },
   "outputs": [],
   "source": [
    "def par_laplace(n=4096, m=4096, iteration_max = 1000, debug=False):\n",
    "\n",
    "    pi = np.pi\n",
    "    tol = 1.0e-5\n",
    "    error = np.ones(1)\n",
    "\n",
    "    A = np.zeros((n, m))\n",
    "\n",
    "    j_range = np.arange(n)\n",
    "    y0 = np.sin(pi * j_range / (n - 1))\n",
    "    A[:, 0]  = y0\n",
    "    A[:, -1] = y0 * np.exp(-pi)\n",
    "\n",
    "    print('Jacobi relaxation Calculation: {} x {} mesh\\n'.format(n, m))\n",
    "\n",
    "    tic = time.time()\n",
    "    iteration = 0\n",
    "\n",
    "    Anew = np.copy(A)\n",
    "    while error[0] > tol and iteration < iteration_max:\n",
    "        error[0] = 0.0\n",
    "        Anew, error = update_a_parallel(A, Anew, error)\n",
    "        A[:] = Anew[:]\n",
    "\n",
    "        if debug and not iteration % 100:\n",
    "            print(\"{:5d}, {:0.6f}\\n\".format(iteration, error[0]))\n",
    "\n",
    "        iteration += 1\n",
    "\n",
    "    toc = time.time() - tic\n",
    "\n",
    "    print(\" total: {} s\\n\".format(toc))\n",
    "    \n",
    "    return A"
   ]
  },
  {
   "cell_type": "code",
   "execution_count": 57,
   "metadata": {
    "collapsed": false
   },
   "outputs": [
    {
     "name": "stdout",
     "output_type": "stream",
     "text": [
      "Jacobi relaxation Calculation: 512 x 512 mesh\n",
      "\n",
      " total: 2.017565965652466 s\n",
      "\n"
     ]
    }
   ],
   "source": [
    "res = par_laplace(512, 512, debug=False)"
   ]
  },
  {
   "cell_type": "code",
   "execution_count": 58,
   "metadata": {
    "collapsed": false
   },
   "outputs": [
    {
     "name": "stdout",
     "output_type": "stream",
     "text": [
      "Jacobi relaxation Calculation: 512 x 512 mesh\n",
      "\n",
      "    0, 0.249999\n",
      "\n",
      "  100, 0.002395\n",
      "\n",
      "  200, 0.001202\n",
      "\n",
      "  300, 0.000801\n",
      "\n",
      "  400, 0.000601\n",
      "\n",
      "  500, 0.000481\n",
      "\n",
      "  600, 0.000400\n",
      "\n",
      "  700, 0.000343\n",
      "\n",
      "  800, 0.000300\n",
      "\n",
      "  900, 0.000266\n",
      "\n",
      " total: 1.238203763961792 s\n",
      "\n"
     ]
    }
   ],
   "source": [
    "%lprun -f par_laplace cpu_laplace(512,512,debug=True) # do not use spaces, it confuses the profiler"
   ]
  },
  {
   "cell_type": "code",
   "execution_count": 61,
   "metadata": {
    "collapsed": false
   },
   "outputs": [
    {
     "name": "stdout",
     "output_type": "stream",
     "text": [
      "Jacobi relaxation Calculation: 1024 x 1024 mesh\n",
      "\n",
      " total: 11.581105470657349 s\n",
      "\n",
      "Jacobi relaxation Calculation: 1024 x 1024 mesh\n",
      "\n",
      " total: 11.712381362915039 s\n",
      "\n",
      "Jacobi relaxation Calculation: 1024 x 1024 mesh\n",
      "\n",
      " total: 12.052513837814331 s\n",
      "\n",
      "Jacobi relaxation Calculation: 1024 x 1024 mesh\n",
      "\n",
      " total: 12.310455560684204 s\n",
      "\n",
      "1 loop, best of 3: 11.7 s per loop\n"
     ]
    }
   ],
   "source": [
    "%timeit par_laplace(1024, 1024)"
   ]
  },
  {
   "cell_type": "code",
   "execution_count": null,
   "metadata": {
    "collapsed": false,
    "scrolled": true
   },
   "outputs": [],
   "source": [
    "par_res = {}\n",
    "for n in N:\n",
    "    res = %timeit -o -n 3 par_laplace(n, n)\n",
    "    par_res[n] = res\n",
    "pickle.dump(par_res, open('par_times.p', 'wb'))"
   ]
  },
  {
   "cell_type": "markdown",
   "metadata": {},
   "source": [
    "### CUDA vectorization"
   ]
  },
  {
   "cell_type": "code",
   "execution_count": 55,
   "metadata": {
    "collapsed": false
   },
   "outputs": [],
   "source": [
    "@guvectorize(['float32[:,:], float32[:,:], float32[:]',\n",
    "              'float64[:,:], float64[:,:], float64[:]'],\n",
    "             '(n,m)->(n,m),()', nopython=True, target='cuda')\n",
    "def update_a_cuda(A, Anew, error):\n",
    "    n, m = A.shape\n",
    "    for j in range(1, n-1):\n",
    "        for i in range(1, m-1):\n",
    "            Anew[j, i] = 0.25 * (A[j, i+1] + A[j, i-1] + A[j-1, i] + A[j+1, i])\n",
    "\n",
    "            diff = abs(Anew[j, i] - A[j, i])\n",
    "            if diff > error[0]:\n",
    "                error[0] = diff"
   ]
  },
  {
   "cell_type": "code",
   "execution_count": 56,
   "metadata": {
    "collapsed": false
   },
   "outputs": [],
   "source": [
    "def cuda_laplace(n=4096, m=4096, iteration_max = 1000, debug=False):\n",
    "\n",
    "    pi = np.pi\n",
    "    tol = 1.0e-5\n",
    "    error = np.ones(1)\n",
    "\n",
    "    A = np.zeros((n, m))\n",
    "\n",
    "    j_range = np.arange(n)\n",
    "    y0 = np.sin(pi * j_range / (n - 1))\n",
    "    A[:, 0]  = y0\n",
    "    A[:, -1] = y0 * np.exp(-pi)\n",
    "\n",
    "    print('Jacobi relaxation Calculation: {} x {} mesh\\n'.format(n, m))\n",
    "\n",
    "    tic = time.time()\n",
    "    iteration = 0\n",
    "\n",
    "    Anew = np.copy(A)\n",
    "    while error[0] > tol and iteration < iteration_max:\n",
    "        error[0] = 0.0\n",
    "        Anew, error = update_a_cuda(A, Anew, error)\n",
    "        A[:] = Anew[:]\n",
    "\n",
    "        if debug and not iteration % 100:\n",
    "            print(\"{:5d}, {:0.6f}\\n\".format(iteration, error[0]))\n",
    "\n",
    "        iteration += 1\n",
    "\n",
    "    toc = time.time() - tic\n",
    "\n",
    "    print(\" total: {} s\\n\".format(toc))\n",
    "    \n",
    "    return A"
   ]
  },
  {
   "cell_type": "code",
   "execution_count": null,
   "metadata": {
    "collapsed": false
   },
   "outputs": [],
   "source": [
    "res = cuda_laplace(512, 512, debug=False)"
   ]
  },
  {
   "cell_type": "code",
   "execution_count": null,
   "metadata": {
    "collapsed": false
   },
   "outputs": [],
   "source": [
    "%lprun -f cuda_laplace cuda_laplace(512,512,debug=True) # do not use spaces, it confuses the profiler"
   ]
  },
  {
   "cell_type": "code",
   "execution_count": null,
   "metadata": {
    "collapsed": false,
    "scrolled": true
   },
   "outputs": [],
   "source": [
    "cuda_res = {}\n",
    "for n in N:\n",
    "    res = %timeit -o -n 3 cuda_laplace(n, n)\n",
    "    cuda_res[n] = res\n",
    "pickle.dump(cuda_res, open('cuda_times.p', 'wb'))"
   ]
  },
  {
   "cell_type": "code",
   "execution_count": null,
   "metadata": {
    "collapsed": true
   },
   "outputs": [],
   "source": []
  }
 ],
 "metadata": {
  "anaconda-cloud": {},
  "kernelspec": {
   "display_name": "Python [conda env:cuda]",
   "language": "python",
   "name": "conda-env-cuda-py"
  },
  "language_info": {
   "codemirror_mode": {
    "name": "ipython",
    "version": 3
   },
   "file_extension": ".py",
   "mimetype": "text/x-python",
   "name": "python",
   "nbconvert_exporter": "python",
   "pygments_lexer": "ipython3",
   "version": "3.5.2"
  }
 },
 "nbformat": 4,
 "nbformat_minor": 1
}
