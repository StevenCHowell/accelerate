{
 "cells": [
  {
   "cell_type": "markdown",
   "metadata": {},
   "source": [
    "Code adapted from NVIDIA OpenACC example: laplace2d-kernels.c\n",
    "\n",
    "Copyright (c) 2012, NVIDIA CORPORATION. All rights reserved.\n",
    "\n",
    "Redistribution and use in source and binary forms, with or without\n",
    "modification, are permitted provided that the following conditions\n",
    "are met:\n",
    " * Redistributions of source code must retain the above copyright\n",
    "   notice, this list of conditions and the following disclaimer.\n",
    " * Redistributions in binary form must reproduce the above copyright\n",
    "   notice, this list of conditions and the following disclaimer in the\n",
    "   documentation and/or other materials provided with the distribution.\n",
    " * Neither the name of NVIDIA CORPORATION nor the names of its\n",
    "   contributors may be used to endorse or promote products derived\n",
    "   from this software without specific prior written permission.\n",
    "\n",
    "THIS SOFTWARE IS PROVIDED BY THE COPYRIGHT HOLDERS ''AS IS'' AND ANY\n",
    "EXPRESS OR IMPLIED WARRANTIES, INCLUDING, BUT NOT LIMITED TO, THE\n",
    "IMPLIED WARRANTIES OF MERCHANTABILITY AND FITNESS FOR A PARTICULAR\n",
    "PURPOSE ARE DISCLAIMED.  IN NO EVENT SHALL THE COPYRIGHT OWNER OR\n",
    "CONTRIBUTORS BE LIABLE FOR ANY DIRECT, INDIRECT, INCIDENTAL, SPECIAL,\n",
    "EXEMPLARY, OR CONSEQUENTIAL DAMAGES (INCLUDING, BUT NOT LIMITED TO,\n",
    "PROCUREMENT OF SUBSTITUTE GOODS OR SERVICES; LOSS OF USE, DATA, OR\n",
    "PROFITS; OR BUSINESS INTERRUPTION) HOWEVER CAUSED AND ON ANY THEORY\n",
    "OF LIABILITY, WHETHER IN CONTRACT, STRICT LIABILITY, OR TORT\n",
    "(INCLUDING NEGLIGENCE OR OTHERWISE) ARISING IN ANY WAY OUT OF THE USE\n",
    "OF THIS SOFTWARE, EVEN IF ADVISED OF THE POSSIBILITY OF SUCH DAMAGE."
   ]
  },
  {
   "cell_type": "code",
   "execution_count": 1,
   "metadata": {
    "collapsed": false
   },
   "outputs": [],
   "source": [
    "%load_ext line_profiler"
   ]
  },
  {
   "cell_type": "code",
   "execution_count": 2,
   "metadata": {
    "collapsed": true
   },
   "outputs": [],
   "source": [
    "%load_ext snakeviz"
   ]
  },
  {
   "cell_type": "code",
   "execution_count": 3,
   "metadata": {
    "collapsed": true
   },
   "outputs": [],
   "source": [
    "import numpy as np\n",
    "import time"
   ]
  },
  {
   "cell_type": "code",
   "execution_count": 4,
   "metadata": {
    "collapsed": true
   },
   "outputs": [],
   "source": [
    "import pickle"
   ]
  },
  {
   "cell_type": "code",
   "execution_count": 5,
   "metadata": {
    "collapsed": true
   },
   "outputs": [],
   "source": [
    "from numba import guvectorize"
   ]
  },
  {
   "cell_type": "code",
   "execution_count": 6,
   "metadata": {
    "collapsed": true
   },
   "outputs": [],
   "source": [
    "from math import fabs"
   ]
  },
  {
   "cell_type": "code",
   "execution_count": 7,
   "metadata": {
    "collapsed": true
   },
   "outputs": [],
   "source": [
    "from numba import jit, njit"
   ]
  },
  {
   "cell_type": "code",
   "execution_count": 8,
   "metadata": {
    "collapsed": false
   },
   "outputs": [],
   "source": [
    "pow_max = 13\n",
    "N = [2 ** val for val in range(2, pow_max)]"
   ]
  },
  {
   "cell_type": "code",
   "execution_count": 5,
   "metadata": {
    "collapsed": true
   },
   "outputs": [],
   "source": [
    "def np_laplace(n=4096, m=4096, iteration_max = 1000, debug=False):\n",
    "\n",
    "    pi = np.pi\n",
    "    tol = 1.0e-5\n",
    "    error = 1.0\n",
    "\n",
    "    A = np.zeros((n, m))\n",
    "\n",
    "    j_range = np.arange(n)\n",
    "    y0 = np.sin(pi * j_range / (n - 1))\n",
    "    A[:, 0]  = y0\n",
    "    A[:, -1] = y0 * np.exp(-pi)\n",
    "\n",
    "    if debug: print('Jacobi relaxation Calculation: {} x {} mesh\\n'.format(n, m))\n",
    "\n",
    "    tic = time.time()\n",
    "    iteration = 0\n",
    "\n",
    "    Anew = np.copy(A)\n",
    "\n",
    "    while error > tol and iteration < iteration_max:\n",
    "        error = 0.0\n",
    "        Anew[1:-1, 1:-1] = 0.25 * (A[1:-1, 2:] + A[1:-1, :-2] + A[2:, 1:-1] + A[:-2, 1:-1])      \n",
    "        diff = np.abs(Anew[1:-1, 1:-1] - A[1:-1, 1:-1])\n",
    "        error_new = np.max(diff)\n",
    "        if error_new > error:\n",
    "            error = error_new\n",
    "        A[:] = Anew[:]\n",
    "\n",
    "        if debug and not iteration % 100:\n",
    "            print(\"{:5d}, {:0.6f}\\n\".format(iteration, error))\n",
    "\n",
    "        iteration += 1\n",
    "\n",
    "    toc = time.time() - tic\n",
    "\n",
    "    if debug: print(\" total: {} s\\n\".format(toc))\n",
    "    \n",
    "    return A"
   ]
  },
  {
   "cell_type": "code",
   "execution_count": 6,
   "metadata": {
    "collapsed": false
   },
   "outputs": [],
   "source": [
    "res = np_laplace(12, 12)"
   ]
  },
  {
   "cell_type": "code",
   "execution_count": 7,
   "metadata": {
    "collapsed": false
   },
   "outputs": [
    {
     "name": "stdout",
     "output_type": "stream",
     "text": [
      "Jacobi relaxation Calculation: 512 x 512 mesh\n",
      "\n",
      "    0, 0.249999\n",
      "\n",
      "  100, 0.002395\n",
      "\n",
      "  200, 0.001202\n",
      "\n",
      "  300, 0.000801\n",
      "\n",
      "  400, 0.000601\n",
      "\n",
      "  500, 0.000481\n",
      "\n",
      "  600, 0.000400\n",
      "\n",
      "  700, 0.000343\n",
      "\n",
      "  800, 0.000300\n",
      "\n",
      "  900, 0.000266\n",
      "\n",
      " total: 2.3715338706970215 s\n",
      "\n"
     ]
    }
   ],
   "source": [
    "%lprun -f np_laplace np_laplace(512,512,debug=True) # do not use spaces, it confuses the profiler"
   ]
  },
  {
   "cell_type": "code",
   "execution_count": 6,
   "metadata": {
    "collapsed": false
   },
   "outputs": [
    {
     "data": {
      "text/plain": [
       "[4, 8, 16, 32, 64, 128, 256, 512, 1024, 2048, 4096]"
      ]
     },
     "execution_count": 6,
     "metadata": {},
     "output_type": "execute_result"
    }
   ],
   "source": [
    "N"
   ]
  },
  {
   "cell_type": "code",
   "execution_count": 10,
   "metadata": {
    "collapsed": false,
    "scrolled": true
   },
   "outputs": [
    {
     "name": "stdout",
     "output_type": "stream",
     "text": [
      "3 loops, best of 3: 631 µs per loop\n",
      "3 loops, best of 3: 2.74 ms per loop\n",
      "3 loops, best of 3: 8.13 ms per loop\n",
      "3 loops, best of 3: 27.2 ms per loop\n",
      "3 loops, best of 3: 56.4 ms per loop\n",
      "3 loops, best of 3: 154 ms per loop\n",
      "3 loops, best of 3: 538 ms per loop\n",
      "3 loops, best of 3: 2.02 s per loop\n",
      "3 loops, best of 3: 10.1 s per loop\n",
      "3 loops, best of 3: 56.7 s per loop\n",
      "3 loops, best of 3: 4min 28s per loop\n"
     ]
    }
   ],
   "source": [
    "np_res = {}\n",
    "for n in N:\n",
    "    res = %timeit -o -n 3 np_laplace(n, n)\n",
    "    np_res[n] = res\n",
    "    pickle.dump(np_res, open('np_times.p', 'wb'))"
   ]
  },
  {
   "cell_type": "markdown",
   "metadata": {},
   "source": [
    "# Adding numba jit decorator"
   ]
  },
  {
   "cell_type": "code",
   "execution_count": 13,
   "metadata": {
    "collapsed": false
   },
   "outputs": [],
   "source": [
    "@jit(['float32[:,:], float32[:,:]',\n",
    "      'float64[:,:], float64[:,:]'],\n",
    "      nopython=True)\n",
    "def update_a_jit(A, Anew):\n",
    "    error = 0.0\n",
    "    n, m = A.shape\n",
    "\n",
    "    for j in range(1, n-1):\n",
    "        for i in range(1, m-1):\n",
    "            Anew[j, i] = 0.25 * (A[j, i+1] + A[j, i-1] + A[j-1, i] + A[j+1, i])\n",
    "            error = max(error, abs(Anew[j, i] - A[j, i]))\n",
    "\n",
    "    return Anew, error"
   ]
  },
  {
   "cell_type": "code",
   "execution_count": 14,
   "metadata": {
    "collapsed": false
   },
   "outputs": [],
   "source": [
    "# this did not make much difference\n",
    "@jit(['float32[:,:], float32[:,:]',\n",
    "      'float64[:,:], float64[:,:]'],\n",
    "      nopython=True)\n",
    "def a_to_anew_jit(A, Anew):\n",
    "    error = 0.0\n",
    "    n, m = A.shape\n",
    "    \n",
    "    for j in range(1, n-1):\n",
    "        for i in range(1, m-1):\n",
    "            A[j, i] = Anew[j, i]\n",
    "    \n",
    "    return A"
   ]
  },
  {
   "cell_type": "code",
   "execution_count": 15,
   "metadata": {
    "collapsed": true
   },
   "outputs": [],
   "source": [
    "def jit_laplace(n=4096, m=4096, iteration_max = 1000, debug=False):\n",
    "\n",
    "    pi = np.pi\n",
    "    tol = 1.0e-5\n",
    "    error = 1.0\n",
    "\n",
    "    A = np.zeros((n, m))\n",
    "\n",
    "    j_range = np.arange(n)\n",
    "    y0 = np.sin(pi * j_range / (n - 1))\n",
    "    A[:, 0]  = y0\n",
    "    A[:, -1] = y0 * np.exp(-pi)\n",
    "\n",
    "    if debug: print('Jacobi relaxation Calculation: {} x {} mesh\\n'.format(n, m))\n",
    "\n",
    "    tic = time.time()\n",
    "    iteration = 0\n",
    "\n",
    "    Anew = np.copy(A)\n",
    "\n",
    "    while error > tol and iteration < iteration_max:\n",
    "        Anew, error = update_a_jit(A, Anew)\n",
    "        # A[:] = Anew[:]\n",
    "        A = a_to_anew_jit(A, Anew)  # this was essentially the same as the line above\n",
    "\n",
    "        if debug and not iteration % 100:\n",
    "            print(\"{:5d}, {:0.6f}\\n\".format(iteration, error))\n",
    "\n",
    "        iteration += 1\n",
    "\n",
    "    toc = time.time() - tic\n",
    "\n",
    "    if debug: print(\" total: {} s\\n\".format(toc))\n",
    "    \n",
    "    return A"
   ]
  },
  {
   "cell_type": "code",
   "execution_count": 16,
   "metadata": {
    "collapsed": false
   },
   "outputs": [],
   "source": [
    "res = jit_laplace(512, 512) # once to compile"
   ]
  },
  {
   "cell_type": "code",
   "execution_count": 17,
   "metadata": {
    "collapsed": false
   },
   "outputs": [
    {
     "name": "stdout",
     "output_type": "stream",
     "text": [
      "Jacobi relaxation Calculation: 512 x 512 mesh\n",
      "\n",
      "    0, 0.249999\n",
      "\n",
      "  100, 0.002395\n",
      "\n",
      "  200, 0.001202\n",
      "\n",
      "  300, 0.000801\n",
      "\n",
      "  400, 0.000601\n",
      "\n",
      "  500, 0.000481\n",
      "\n",
      "  600, 0.000400\n",
      "\n",
      "  700, 0.000343\n",
      "\n",
      "  800, 0.000300\n",
      "\n",
      "  900, 0.000266\n",
      "\n",
      " total: 0.7033450603485107 s\n",
      "\n"
     ]
    }
   ],
   "source": [
    "%lprun -f jit_laplace jit_laplace(512,512,debug=True) # do not use spaces, it confuses the profiler"
   ]
  },
  {
   "cell_type": "code",
   "execution_count": 18,
   "metadata": {
    "collapsed": false,
    "scrolled": true
   },
   "outputs": [
    {
     "name": "stdout",
     "output_type": "stream",
     "text": [
      "3 loops, best of 3: 47.4 µs per loop\n",
      "3 loops, best of 3: 128 µs per loop\n",
      "3 loops, best of 3: 535 µs per loop\n",
      "3 loops, best of 3: 3.38 ms per loop\n",
      "3 loops, best of 3: 9.89 ms per loop\n",
      "3 loops, best of 3: 35.7 ms per loop\n",
      "3 loops, best of 3: 159 ms per loop\n",
      "3 loops, best of 3: 669 ms per loop\n",
      "3 loops, best of 3: 2.7 s per loop\n",
      "3 loops, best of 3: 14.1 s per loop\n",
      "3 loops, best of 3: 55.9 s per loop\n"
     ]
    }
   ],
   "source": [
    "jit_res = {}\n",
    "for n in N:\n",
    "    res = %timeit -o -n 3 jit_laplace(n, n)\n",
    "    jit_res[n] = res\n",
    "    pickle.dump(jit_res, open('jit_times.p', 'wb'))"
   ]
  },
  {
   "cell_type": "markdown",
   "metadata": {},
   "source": [
    "# Implementing `guvectorize`"
   ]
  },
  {
   "cell_type": "markdown",
   "metadata": {},
   "source": [
    "### CPU Vectorization"
   ]
  },
  {
   "cell_type": "code",
   "execution_count": 21,
   "metadata": {
    "collapsed": false
   },
   "outputs": [],
   "source": [
    "@guvectorize(['float32[:,:], float32[:,:]',\n",
    "              'float64[:,:], float64[:,:]'],\n",
    "             '(n,m)->(n,m)', nopython=True,\n",
    "             target='cpu')\n",
    "def update_a_serial0(A, Anew):\n",
    "    n, m = A.shape\n",
    "    for j in range(1, n-1):\n",
    "        for i in range(1, m-1):\n",
    "            Anew[j, i] = 0.25 * (A[j, i+1] + A[j, i-1] + A[j-1, i] + A[j+1, i])"
   ]
  },
  {
   "cell_type": "code",
   "execution_count": 22,
   "metadata": {
    "collapsed": false
   },
   "outputs": [],
   "source": [
    "@guvectorize(['float32[:,:], float32[:,:], float32[:]',\n",
    "              'float64[:,:], float64[:,:], float64[:]'],\n",
    "             '(n,m)->(n,m),()', nopython=True, target='cpu')\n",
    "def update_a_serial(A, Anew, error):\n",
    "    n, m = A.shape\n",
    "    for j in range(1, n-1):\n",
    "        for i in range(1, m-1):\n",
    "            Anew[j, i] = 0.25 * (A[j, i+1] + A[j, i-1] + A[j-1, i] + A[j+1, i])\n",
    "\n",
    "            diff = abs(Anew[j, i] - A[j, i])\n",
    "            if diff > error[0]:\n",
    "                error[0] = diff"
   ]
  },
  {
   "cell_type": "code",
   "execution_count": 23,
   "metadata": {
    "collapsed": false
   },
   "outputs": [
    {
     "data": {
      "text/plain": [
       "(0.25, 0.25)"
      ]
     },
     "execution_count": 23,
     "metadata": {},
     "output_type": "execute_result"
    }
   ],
   "source": [
    "A = np.zeros((4,4))\n",
    "A[:, [0, -1]] = 1.0\n",
    "Anew = np.zeros_like(A)\n",
    "error = np.zeros(1)\n",
    "Anew, error = update_a_serial(A, Anew, error)\n",
    "np.max(np.abs(Anew[1:-1, 1:-1] - A[1:-1, 1:-1])), error[0]"
   ]
  },
  {
   "cell_type": "code",
   "execution_count": 24,
   "metadata": {
    "collapsed": false
   },
   "outputs": [],
   "source": [
    "def cpu_laplace(n=4096, m=4096, iteration_max = 1000, debug=False):\n",
    "\n",
    "    pi = np.pi\n",
    "    tol = 1.0e-5\n",
    "    error = np.ones(1)\n",
    "\n",
    "    A = np.zeros((n, m))\n",
    "\n",
    "    j_range = np.arange(n)\n",
    "    y0 = np.sin(pi * j_range / (n - 1))\n",
    "    A[:, 0]  = y0\n",
    "    A[:, -1] = y0 * np.exp(-pi)\n",
    "\n",
    "    if debug: print('Jacobi relaxation Calculation: {} x {} mesh\\n'.format(n, m))\n",
    "\n",
    "    tic = time.time()\n",
    "    iteration = 0\n",
    "\n",
    "    Anew = np.copy(A)\n",
    "    while error[0] > tol and iteration < iteration_max:\n",
    "        error[0] = 0.0\n",
    "        Anew, error = update_a_serial(A, Anew, error)\n",
    "        A[:] = Anew[:]\n",
    "\n",
    "        if debug and not iteration % 100:\n",
    "            print(\"{:5d}, {:0.6f}\\n\".format(iteration, error[0]))\n",
    "\n",
    "        iteration += 1\n",
    "\n",
    "    toc = time.time() - tic\n",
    "\n",
    "    if debug: print(\" total: {} s\\n\".format(toc))\n",
    "    \n",
    "    return A"
   ]
  },
  {
   "cell_type": "code",
   "execution_count": 25,
   "metadata": {
    "collapsed": false,
    "scrolled": true
   },
   "outputs": [],
   "source": [
    "res = cpu_laplace(512, 512)"
   ]
  },
  {
   "cell_type": "code",
   "execution_count": 26,
   "metadata": {
    "collapsed": false
   },
   "outputs": [
    {
     "name": "stdout",
     "output_type": "stream",
     "text": [
      "Jacobi relaxation Calculation: 512 x 512 mesh\n",
      "\n",
      "    0, 0.249999\n",
      "\n",
      "  100, 0.002395\n",
      "\n",
      "  200, 0.001202\n",
      "\n",
      "  300, 0.000801\n",
      "\n",
      "  400, 0.000601\n",
      "\n",
      "  500, 0.000481\n",
      "\n",
      "  600, 0.000400\n",
      "\n",
      "  700, 0.000343\n",
      "\n",
      "  800, 0.000300\n",
      "\n",
      "  900, 0.000266\n",
      "\n",
      " total: 2.6767690181732178 s\n",
      "\n"
     ]
    }
   ],
   "source": [
    "%lprun -f cpu_laplace cpu_laplace(512,512,debug=True) # do not use spaces, it confuses the profiler"
   ]
  },
  {
   "cell_type": "code",
   "execution_count": 27,
   "metadata": {
    "collapsed": false
   },
   "outputs": [
    {
     "name": "stdout",
     "output_type": "stream",
     "text": [
      "1 loop, best of 3: 8 s per loop\n"
     ]
    }
   ],
   "source": [
    "%timeit cpu_laplace(1024, 1024)"
   ]
  },
  {
   "cell_type": "code",
   "execution_count": 28,
   "metadata": {
    "collapsed": false,
    "scrolled": true
   },
   "outputs": [
    {
     "name": "stdout",
     "output_type": "stream",
     "text": [
      "3 loops, best of 3: 121 µs per loop\n",
      "3 loops, best of 3: 502 µs per loop\n",
      "3 loops, best of 3: 897 µs per loop\n",
      "3 loops, best of 3: 4.22 ms per loop\n",
      "3 loops, best of 3: 10.9 ms per loop\n",
      "3 loops, best of 3: 42.2 ms per loop\n",
      "3 loops, best of 3: 169 ms per loop\n",
      "3 loops, best of 3: 2.57 s per loop\n",
      "3 loops, best of 3: 8.63 s per loop\n",
      "3 loops, best of 3: 13.6 s per loop\n",
      "3 loops, best of 3: 53.2 s per loop\n"
     ]
    }
   ],
   "source": [
    "cpu_res = {}\n",
    "for n in N:\n",
    "    res = %timeit -o -n 3 cpu_laplace(n, n)\n",
    "    cpu_res[n] = res\n",
    "    pickle.dump(cpu_res, open('cpu_times.p', 'wb'))"
   ]
  },
  {
   "cell_type": "markdown",
   "metadata": {},
   "source": [
    "### parallel CPU vectorization"
   ]
  },
  {
   "cell_type": "code",
   "execution_count": 29,
   "metadata": {
    "collapsed": false
   },
   "outputs": [],
   "source": [
    "@guvectorize(['float32[:,:], float32[:,:], float32[:]',\n",
    "              'float64[:,:], float64[:,:], float64[:]'],\n",
    "             '(n,m)->(n,m),()', nopython=True, target='parallel')\n",
    "def update_a_parallel(A, Anew, error):\n",
    "    n, m = A.shape\n",
    "    for j in range(1, n-1):\n",
    "        for i in range(1, m-1):\n",
    "            Anew[j, i] = 0.25 * (A[j, i+1] + A[j, i-1] + A[j-1, i] + A[j+1, i])\n",
    "\n",
    "            diff = abs(Anew[j, i] - A[j, i])\n",
    "            if diff > error[0]:\n",
    "                error[0] = diff"
   ]
  },
  {
   "cell_type": "code",
   "execution_count": 30,
   "metadata": {
    "collapsed": false
   },
   "outputs": [],
   "source": [
    "def par_laplace(n=4096, m=4096, iteration_max = 1000, debug=False):\n",
    "\n",
    "    pi = np.pi\n",
    "    tol = 1.0e-5\n",
    "    error = np.ones(1)\n",
    "\n",
    "    A = np.zeros((n, m))\n",
    "\n",
    "    j_range = np.arange(n)\n",
    "    y0 = np.sin(pi * j_range / (n - 1))\n",
    "    A[:, 0]  = y0\n",
    "    A[:, -1] = y0 * np.exp(-pi)\n",
    "\n",
    "    if debug: print('Jacobi relaxation Calculation: {} x {} mesh\\n'.format(n, m))\n",
    "\n",
    "    tic = time.time()\n",
    "    iteration = 0\n",
    "\n",
    "    Anew = np.copy(A)\n",
    "    while error[0] > tol and iteration < iteration_max:\n",
    "        error[0] = 0.0\n",
    "        Anew, error = update_a_parallel(A, Anew, error)\n",
    "        A[:] = Anew[:]\n",
    "\n",
    "        if debug and not iteration % 100:\n",
    "            print(\"{:5d}, {:0.6f}\\n\".format(iteration, error[0]))\n",
    "\n",
    "        iteration += 1\n",
    "\n",
    "    toc = time.time() - tic\n",
    "\n",
    "    if debug: print(\" total: {} s\\n\".format(toc))\n",
    "    \n",
    "    return A"
   ]
  },
  {
   "cell_type": "code",
   "execution_count": 31,
   "metadata": {
    "collapsed": false
   },
   "outputs": [],
   "source": [
    "res = par_laplace(512, 512, debug=False)"
   ]
  },
  {
   "cell_type": "code",
   "execution_count": 32,
   "metadata": {
    "collapsed": false
   },
   "outputs": [
    {
     "name": "stdout",
     "output_type": "stream",
     "text": [
      "Jacobi relaxation Calculation: 512 x 512 mesh\n",
      "\n",
      "    0, 0.249999\n",
      "\n",
      "  100, 0.002395\n",
      "\n",
      "  200, 0.001202\n",
      "\n",
      "  300, 0.000801\n",
      "\n",
      "  400, 0.000601\n",
      "\n",
      "  500, 0.000481\n",
      "\n",
      "  600, 0.000400\n",
      "\n",
      "  700, 0.000343\n",
      "\n",
      "  800, 0.000300\n",
      "\n",
      "  900, 0.000266\n",
      "\n",
      " total: 2.7831718921661377 s\n",
      "\n"
     ]
    }
   ],
   "source": [
    "%lprun -f par_laplace cpu_laplace(512,512,debug=True) # do not use spaces, it confuses the profiler"
   ]
  },
  {
   "cell_type": "code",
   "execution_count": 33,
   "metadata": {
    "collapsed": false
   },
   "outputs": [
    {
     "name": "stdout",
     "output_type": "stream",
     "text": [
      "1 loop, best of 3: 7.29 s per loop\n"
     ]
    }
   ],
   "source": [
    "%timeit par_laplace(1024, 1024)"
   ]
  },
  {
   "cell_type": "code",
   "execution_count": 1,
   "metadata": {
    "collapsed": false,
    "scrolled": true
   },
   "outputs": [
    {
     "ename": "NameError",
     "evalue": "name 'N' is not defined",
     "output_type": "error",
     "traceback": [
      "\u001b[0;31m---------------------------------------------------------------------------\u001b[0m",
      "\u001b[0;31mNameError\u001b[0m                                 Traceback (most recent call last)",
      "\u001b[0;32m<ipython-input-1-ce350f0c3a68>\u001b[0m in \u001b[0;36m<module>\u001b[0;34m()\u001b[0m\n\u001b[1;32m      1\u001b[0m \u001b[0mpar_res\u001b[0m \u001b[0;34m=\u001b[0m \u001b[0;34m{\u001b[0m\u001b[0;34m}\u001b[0m\u001b[0;34m\u001b[0m\u001b[0m\n\u001b[0;32m----> 2\u001b[0;31m \u001b[0;32mfor\u001b[0m \u001b[0mn\u001b[0m \u001b[0;32min\u001b[0m \u001b[0mN\u001b[0m\u001b[0;34m:\u001b[0m\u001b[0;34m\u001b[0m\u001b[0m\n\u001b[0m\u001b[1;32m      3\u001b[0m     \u001b[0mres\u001b[0m \u001b[0;34m=\u001b[0m \u001b[0mget_ipython\u001b[0m\u001b[0;34m(\u001b[0m\u001b[0;34m)\u001b[0m\u001b[0;34m.\u001b[0m\u001b[0mmagic\u001b[0m\u001b[0;34m(\u001b[0m\u001b[0;34m'timeit -o -n 3 par_laplace(n, n)'\u001b[0m\u001b[0;34m)\u001b[0m\u001b[0;34m\u001b[0m\u001b[0m\n\u001b[1;32m      4\u001b[0m     \u001b[0mpar_res\u001b[0m\u001b[0;34m[\u001b[0m\u001b[0mn\u001b[0m\u001b[0;34m]\u001b[0m \u001b[0;34m=\u001b[0m \u001b[0mres\u001b[0m\u001b[0;34m\u001b[0m\u001b[0m\n\u001b[1;32m      5\u001b[0m     \u001b[0mpickle\u001b[0m\u001b[0;34m.\u001b[0m\u001b[0mdump\u001b[0m\u001b[0;34m(\u001b[0m\u001b[0mpar_res\u001b[0m\u001b[0;34m,\u001b[0m \u001b[0mopen\u001b[0m\u001b[0;34m(\u001b[0m\u001b[0;34m'par_times.p'\u001b[0m\u001b[0;34m,\u001b[0m \u001b[0;34m'wb'\u001b[0m\u001b[0;34m)\u001b[0m\u001b[0;34m)\u001b[0m\u001b[0;34m\u001b[0m\u001b[0m\n",
      "\u001b[0;31mNameError\u001b[0m: name 'N' is not defined"
     ]
    }
   ],
   "source": [
    "par_res = {}\n",
    "for n in N:\n",
    "    res = %timeit -o -n 3 par_laplace(n, n)\n",
    "    par_res[n] = res\n",
    "    pickle.dump(par_res, open('par_times.p', 'wb'))"
   ]
  },
  {
   "cell_type": "markdown",
   "metadata": {},
   "source": [
    "### CUDA vectorization"
   ]
  },
  {
   "cell_type": "code",
   "execution_count": 9,
   "metadata": {
    "collapsed": false
   },
   "outputs": [],
   "source": [
    "@guvectorize(['float32[:,:], float32[:,:]',\n",
    "              'float64[:,:], float64[:,:]'],\n",
    "             '(n,m)->(n,m)', nopython=True, target='cuda')\n",
    "def update_a_cuda(A, Anew):\n",
    "    n, m = A.shape\n",
    "    for j in range(1, n-1):\n",
    "        for i in range(1, m-1):\n",
    "            Anew[j, i] = 0.25 * (A[j, i+1] + A[j, i-1] + A[j-1, i] + A[j+1, i])"
   ]
  },
  {
   "cell_type": "code",
   "execution_count": 10,
   "metadata": {
    "collapsed": false
   },
   "outputs": [],
   "source": [
    "@guvectorize(['float32[:,:], float32[:,:], float32[:]',\n",
    "              'float64[:,:], float64[:,:], float64[:]'],\n",
    "             '(n,m),(n,m)->()', nopython=True, target='cuda')\n",
    "def update_error_cuda(A, Anew, error):\n",
    "    n, m = A.shape\n",
    "    for j in range(1, n-1):\n",
    "        for i in range(1, m-1):\n",
    "            diff = abs(Anew[j, i] - A[j, i])\n",
    "            if diff > error[0]:\n",
    "                error[0] = diff"
   ]
  },
  {
   "cell_type": "code",
   "execution_count": 11,
   "metadata": {
    "collapsed": false
   },
   "outputs": [
    {
     "data": {
      "text/plain": [
       "array([[  0.,   0.,   0.,   0.],\n",
       "       [  0.,   5.,   6.,   0.],\n",
       "       [  0.,   9.,  10.,   0.],\n",
       "       [  0.,   0.,   0.,   0.]], dtype=float32)"
      ]
     },
     "execution_count": 11,
     "metadata": {},
     "output_type": "execute_result"
    }
   ],
   "source": [
    "a = np.arange(16, dtype=np.float32).reshape(4, 4)\n",
    "anew = np.zeros((4, 4), dtype=np.float32)\n",
    "anew[1:-1, 1:-1] = update_a_cuda(a)[1:-1, 1:-1]\n",
    "anew"
   ]
  },
  {
   "cell_type": "code",
   "execution_count": 12,
   "metadata": {
    "collapsed": false
   },
   "outputs": [],
   "source": [
    "def cuda_laplace(n=4096, m=4096, iteration_max = 1000, debug=False):\n",
    "\n",
    "    dtype=np.float32\n",
    "    \n",
    "    pi = np.pi\n",
    "    tol = 1.0e-5\n",
    "    error = np.ones(1)\n",
    "    \n",
    "    A = np.zeros((n, m), dtype=dtype)\n",
    "\n",
    "    j_range = np.arange(n)\n",
    "    y0 = np.sin(pi * j_range / (n - 1))\n",
    "    A[:, 0]  = y0\n",
    "    A[:, -1] = y0 * np.exp(-pi)\n",
    "\n",
    "    if debug: print('Jacobi relaxation Calculation: {} x {} mesh\\n'.format(n, m))\n",
    "\n",
    "    tic = time.time()\n",
    "    iteration = 0\n",
    "\n",
    "    Anew = np.copy(A)\n",
    "    while error[0] > tol and iteration < iteration_max:\n",
    "        error[0] = 0.0\n",
    "        res = update_a_cuda(A)\n",
    "        Anew[1:-1, 1:-1] = res[1:-1, 1:-1]\n",
    "        error = update_error_cuda(A, Anew)\n",
    "        A[:] = Anew[:]\n",
    "\n",
    "        if debug and not iteration % 100:\n",
    "            print(\"{:5d}, {:0.6f}\\n\".format(iteration, error[0]))\n",
    "\n",
    "        iteration += 1\n",
    "\n",
    "    toc = time.time() - tic\n",
    "\n",
    "    if debug: print(\" total: {} s\\n\".format(toc))\n",
    "    \n",
    "    return A"
   ]
  },
  {
   "cell_type": "code",
   "execution_count": 13,
   "metadata": {
    "collapsed": false
   },
   "outputs": [],
   "source": [
    "res = cuda_laplace(512, 512, debug=False)"
   ]
  },
  {
   "cell_type": "code",
   "execution_count": 41,
   "metadata": {
    "collapsed": false
   },
   "outputs": [
    {
     "name": "stdout",
     "output_type": "stream",
     "text": [
      "Jacobi relaxation Calculation: 512 x 512 mesh\n",
      "\n",
      "    0, 0.249999\n",
      "\n",
      "  100, 0.124997\n",
      "\n",
      "  200, 0.249999\n",
      "\n",
      "  300, 0.054685\n",
      "\n",
      "  400, 0.124997\n",
      "\n",
      "  500, 0.249999\n",
      "\n",
      "  600, 0.124997\n",
      "\n",
      "  700, 0.054685\n",
      "\n",
      "  800, 0.000300\n",
      "\n",
      "  900, 0.000266\n",
      "\n",
      " total: 145.69989371299744 s\n",
      "\n"
     ]
    }
   ],
   "source": [
    "%lprun -f cuda_laplace cuda_laplace(512,512,debug=True) # do not use spaces, it confuses the profiler"
   ]
  },
  {
   "cell_type": "code",
   "execution_count": 14,
   "metadata": {
    "collapsed": false,
    "scrolled": true
   },
   "outputs": [
    {
     "name": "stdout",
     "output_type": "stream",
     "text": [
      "3 loops, best of 3: 34 ms per loop\n",
      "3 loops, best of 3: 171 ms per loop\n",
      "3 loops, best of 3: 664 ms per loop\n",
      "3 loops, best of 3: 2.63 s per loop\n",
      "3 loops, best of 3: 4.08 s per loop\n",
      "3 loops, best of 3: 9.3 s per loop\n"
     ]
    }
   ],
   "source": [
    "cuda_res = {}\n",
    "for n in N[:6]:\n",
    "    res = %timeit -o -n 3 cuda_laplace(n, n)\n",
    "    cuda_res[n] = res\n",
    "pickle.dump(cuda_res, open('cuda_times.p', 'wb'))"
   ]
  },
  {
   "cell_type": "markdown",
   "metadata": {
    "collapsed": true
   },
   "source": [
    "This is much slower, likely because of data transfer after each iteration.  I will try to put the entire while loop on the GPU."
   ]
  },
  {
   "cell_type": "code",
   "execution_count": 15,
   "metadata": {
    "collapsed": false
   },
   "outputs": [],
   "source": [
    "@guvectorize([\n",
    "        'float32[:,:], float32[:,:]',\n",
    "        'float64[:,:], float64[:,:]',\n",
    "    ], '(n,m)->(n,m)', target='cuda', nopython=True)\n",
    "def iterate_a(A, Anew):\n",
    "    n, m = A.shape\n",
    "    tol = 1.0e-5\n",
    "    iteration_max = 1000\n",
    "    error = 1.0\n",
    "    iteration = 0\n",
    "\n",
    "    # main loop\n",
    "    while error > tol and iteration < iteration_max:\n",
    "        error = 0.0\n",
    "        for j in range(1, n-1):\n",
    "            for i in range(1, m-1):\n",
    "                Anew[j, i] = 0.25 * (A[j, i+1] + A[j, i-1] + A[j-1, i] + A[j+1, i])\n",
    "                diff = abs(Anew[j, i] - A[j, i])\n",
    "                if diff > error:\n",
    "                    error = diff\n",
    "        \n",
    "        for j in range(1, n-1):\n",
    "            for i in range(1, m-1):\n",
    "                A[j, i] = Anew[j, i]\n",
    "\n",
    "        iteration += 1"
   ]
  },
  {
   "cell_type": "code",
   "execution_count": 16,
   "metadata": {
    "collapsed": false
   },
   "outputs": [],
   "source": [
    "def cuda_laplace(n=4096, m=4096, debug=False):\n",
    "\n",
    "    dtype=np.float32\n",
    "    \n",
    "    pi = np.pi\n",
    "    \n",
    "    A = np.zeros((n, m), dtype=dtype)\n",
    "\n",
    "    j_range = np.arange(n)\n",
    "    y0 = np.sin(pi * j_range / (n - 1))\n",
    "    A[:, 0]  = y0\n",
    "    A[:, -1] = y0 * np.exp(-pi)\n",
    "\n",
    "    if debug: print('Jacobi relaxation Calculation: {} x {} mesh\\n'.format(n, m))\n",
    "\n",
    "    tic = time.time()\n",
    "    iterate_a(A)\n",
    "    toc = time.time() - tic\n",
    "\n",
    "    if debug: print(\" total: {} s\\n\".format(toc))\n",
    "    \n",
    "    return A"
   ]
  },
  {
   "cell_type": "code",
   "execution_count": 17,
   "metadata": {
    "collapsed": false
   },
   "outputs": [
    {
     "name": "stdout",
     "output_type": "stream",
     "text": [
      "Jacobi relaxation Calculation: 16 x 16 mesh\n",
      "\n",
      " total: 0.04583144187927246 s\n",
      "\n"
     ]
    }
   ],
   "source": [
    "res = cuda_laplace(16, 16, debug=True)"
   ]
  },
  {
   "cell_type": "code",
   "execution_count": 18,
   "metadata": {
    "collapsed": false
   },
   "outputs": [],
   "source": [
    "# think this crashes...\n",
    "# %lprun -f cuda_laplace cuda_laplace(512,512,debug=True) # do not use spaces, it confuses the profiler"
   ]
  },
  {
   "cell_type": "code",
   "execution_count": 21,
   "metadata": {
    "collapsed": false
   },
   "outputs": [
    {
     "data": {
      "text/plain": [
       "[4, 8, 16, 32, 64]"
      ]
     },
     "execution_count": 21,
     "metadata": {},
     "output_type": "execute_result"
    }
   ],
   "source": [
    "N[:5]"
   ]
  },
  {
   "cell_type": "code",
   "execution_count": 2,
   "metadata": {
    "collapsed": false,
    "scrolled": true
   },
   "outputs": [],
   "source": [
    "# this crashes in the notebook\n",
    "\n",
    "cuda_res = {}\n",
    "for n in N[:5]:\n",
    "    res = %timeit -o -n 3 cuda_laplace(n, n)\n",
    "    cuda_res[n] = res\n",
    "    pickle.dump(cuda_res, open('cuda_times_v2.p', 'wb'))"
   ]
  },
  {
   "cell_type": "markdown",
   "metadata": {},
   "source": [
    "## use this with CPU and Parallel"
   ]
  },
  {
   "cell_type": "code",
   "execution_count": 9,
   "metadata": {
    "collapsed": false
   },
   "outputs": [],
   "source": [
    "@guvectorize([\n",
    "        'float32[:,:], float32[:,:]',\n",
    "        'float64[:,:], float64[:,:]',\n",
    "    ], '(n,m)->(n,m)', target='cpu', nopython=True)\n",
    "def cpu_iterate_a(A, Anew):\n",
    "    n, m = A.shape\n",
    "    tol = 1.0e-5\n",
    "    iteration_max = 1000\n",
    "    error = 1.0\n",
    "    iteration = 0\n",
    "\n",
    "    # main loop\n",
    "    while error > tol and iteration < iteration_max:\n",
    "        error = 0.0\n",
    "        for j in range(1, n-1):\n",
    "            for i in range(1, m-1):\n",
    "                Anew[j, i] = 0.25 * (A[j, i+1] + A[j, i-1] + A[j-1, i] + A[j+1, i])\n",
    "                diff = abs(Anew[j, i] - A[j, i])\n",
    "                if diff > error:\n",
    "                    error = diff\n",
    "        \n",
    "        for j in range(1, n-1):\n",
    "            for i in range(1, m-1):\n",
    "                A[j, i] = Anew[j, i]\n",
    "\n",
    "        iteration += 1"
   ]
  },
  {
   "cell_type": "code",
   "execution_count": 10,
   "metadata": {
    "collapsed": false
   },
   "outputs": [],
   "source": [
    "def cpu_laplace(n=4096, m=4096, debug=False):\n",
    "\n",
    "    dtype=np.float32\n",
    "    \n",
    "    pi = np.pi\n",
    "    \n",
    "    A = np.zeros((n, m), dtype=dtype)\n",
    "\n",
    "    j_range = np.arange(n)\n",
    "    y0 = np.sin(pi * j_range / (n - 1))\n",
    "    A[:, 0]  = y0\n",
    "    A[:, -1] = y0 * np.exp(-pi)\n",
    "\n",
    "    if debug: print('Jacobi relaxation Calculation: {} x {} mesh\\n'.format(n, m))\n",
    "\n",
    "    tic = time.time()\n",
    "    cpu_iterate_a(A)\n",
    "    toc = time.time() - tic\n",
    "\n",
    "    if debug: print(\" total: {} s\\n\".format(toc))\n",
    "    \n",
    "    return A"
   ]
  },
  {
   "cell_type": "code",
   "execution_count": 11,
   "metadata": {
    "collapsed": false
   },
   "outputs": [
    {
     "name": "stdout",
     "output_type": "stream",
     "text": [
      "Jacobi relaxation Calculation: 16 x 16 mesh\n",
      "\n",
      " total: 0.0020852088928222656 s\n",
      "\n"
     ]
    }
   ],
   "source": [
    "res = cpu_laplace(16, 16, debug=True)"
   ]
  },
  {
   "cell_type": "code",
   "execution_count": 12,
   "metadata": {
    "collapsed": false
   },
   "outputs": [
    {
     "data": {
      "text/plain": [
       "array([[ 0.        ,  0.        ,  0.        ,  0.        ],\n",
       "       [ 0.20791169,  0.16873163,  0.13692765,  0.11111137],\n",
       "       [ 0.40673664,  0.33008888,  0.2678709 ,  0.21736664],\n",
       "       [ 0.58778524,  0.47701967,  0.3871069 ,  0.31412193]], dtype=float32)"
      ]
     },
     "execution_count": 12,
     "metadata": {},
     "output_type": "execute_result"
    }
   ],
   "source": [
    "res[:4, :4]"
   ]
  },
  {
   "cell_type": "code",
   "execution_count": 13,
   "metadata": {
    "collapsed": false
   },
   "outputs": [
    {
     "name": "stdout",
     "output_type": "stream",
     "text": [
      "Jacobi relaxation Calculation: 512 x 512 mesh\n",
      "\n",
      " total: 4.311594009399414 s\n",
      "\n"
     ]
    }
   ],
   "source": [
    "# think this crashes...\n",
    "%lprun -f cpu_laplace cpu_laplace(512,512,debug=True) # do not use spaces, it confuses the profiler"
   ]
  },
  {
   "cell_type": "code",
   "execution_count": 14,
   "metadata": {
    "collapsed": false,
    "scrolled": true
   },
   "outputs": [
    {
     "name": "stdout",
     "output_type": "stream",
     "text": [
      "3 loops, best of 3: 37.8 µs per loop\n",
      "3 loops, best of 3: 50.4 µs per loop\n",
      "3 loops, best of 3: 375 µs per loop\n",
      "3 loops, best of 3: 4.34 ms per loop\n",
      "3 loops, best of 3: 17.4 ms per loop\n",
      "3 loops, best of 3: 75.5 ms per loop\n",
      "3 loops, best of 3: 452 ms per loop\n",
      "3 loops, best of 3: 4.32 s per loop\n",
      "3 loops, best of 3: 16 s per loop\n",
      "3 loops, best of 3: 44.8 s per loop\n",
      "3 loops, best of 3: 2min 11s per loop\n"
     ]
    }
   ],
   "source": [
    "cpu_res = {}\n",
    "for n in N:\n",
    "    res = %timeit -o -n 3 cpu_laplace(n, n)\n",
    "    cpu_res[n] = res\n",
    "    pickle.dump(cpu_res, open('cpu_times_v2.p', 'wb'))"
   ]
  },
  {
   "cell_type": "code",
   "execution_count": 15,
   "metadata": {
    "collapsed": false
   },
   "outputs": [],
   "source": [
    "@guvectorize([\n",
    "        'float32[:,:], float32[:,:]',\n",
    "        'float64[:,:], float64[:,:]',\n",
    "    ], '(n,m)->(n,m)', target='parallel', nopython=True)\n",
    "def par_iterate_a(A, Anew):\n",
    "    n, m = A.shape\n",
    "    tol = 1.0e-5\n",
    "    iteration_max = 1000\n",
    "    error = 1.0\n",
    "    iteration = 0\n",
    "\n",
    "    # main loop\n",
    "    while error > tol and iteration < iteration_max:\n",
    "        error = 0.0\n",
    "        for j in range(1, n-1):\n",
    "            for i in range(1, m-1):\n",
    "                Anew[j, i] = 0.25 * (A[j, i+1] + A[j, i-1] + A[j-1, i] + A[j+1, i])\n",
    "                diff = abs(Anew[j, i] - A[j, i])\n",
    "                if diff > error:\n",
    "                    error = diff\n",
    "        \n",
    "        for j in range(1, n-1):\n",
    "            for i in range(1, m-1):\n",
    "                A[j, i] = Anew[j, i]\n",
    "\n",
    "        iteration += 1"
   ]
  },
  {
   "cell_type": "code",
   "execution_count": 16,
   "metadata": {
    "collapsed": false
   },
   "outputs": [],
   "source": [
    "def par_laplace(n=4096, m=4096, debug=False):\n",
    "\n",
    "    dtype=np.float32\n",
    "    \n",
    "    pi = np.pi\n",
    "    \n",
    "    A = np.zeros((n, m), dtype=dtype)\n",
    "\n",
    "    j_range = np.arange(n)\n",
    "    y0 = np.sin(pi * j_range / (n - 1))\n",
    "    A[:, 0]  = y0\n",
    "    A[:, -1] = y0 * np.exp(-pi)\n",
    "\n",
    "    if debug: print('Jacobi relaxation Calculation: {} x {} mesh\\n'.format(n, m))\n",
    "\n",
    "    tic = time.time()\n",
    "    par_iterate_a(A)\n",
    "    toc = time.time() - tic\n",
    "\n",
    "    if debug: print(\" total: {} s\\n\".format(toc))\n",
    "    \n",
    "    return A"
   ]
  },
  {
   "cell_type": "code",
   "execution_count": 17,
   "metadata": {
    "collapsed": false
   },
   "outputs": [
    {
     "name": "stdout",
     "output_type": "stream",
     "text": [
      "Jacobi relaxation Calculation: 16 x 16 mesh\n",
      "\n",
      " total: 0.0003638267517089844 s\n",
      "\n"
     ]
    }
   ],
   "source": [
    "res = par_laplace(16, 16, debug=True)"
   ]
  },
  {
   "cell_type": "code",
   "execution_count": 19,
   "metadata": {
    "collapsed": false
   },
   "outputs": [
    {
     "name": "stdout",
     "output_type": "stream",
     "text": [
      "Jacobi relaxation Calculation: 512 x 512 mesh\n",
      "\n",
      " total: 4.335393190383911 s\n",
      "\n"
     ]
    }
   ],
   "source": [
    "# think this crashes...\n",
    "%lprun -f par_laplace par_laplace(512,512,debug=True) # do not use spaces, it confuses the profiler"
   ]
  },
  {
   "cell_type": "code",
   "execution_count": 20,
   "metadata": {
    "collapsed": false,
    "scrolled": true
   },
   "outputs": [
    {
     "name": "stdout",
     "output_type": "stream",
     "text": [
      "3 loops, best of 3: 62.5 µs per loop\n",
      "3 loops, best of 3: 142 µs per loop\n",
      "3 loops, best of 3: 397 µs per loop\n",
      "3 loops, best of 3: 5.22 ms per loop\n",
      "3 loops, best of 3: 17.6 ms per loop\n",
      "3 loops, best of 3: 75.6 ms per loop\n",
      "3 loops, best of 3: 455 ms per loop\n",
      "3 loops, best of 3: 4.33 s per loop\n",
      "3 loops, best of 3: 16.3 s per loop\n",
      "3 loops, best of 3: 45 s per loop\n",
      "3 loops, best of 3: 2min 11s per loop\n"
     ]
    }
   ],
   "source": [
    "par_res = {}\n",
    "for n in N:\n",
    "    res = %timeit -o -n 3 par_laplace(n, n)\n",
    "    par_res[n] = res\n",
    "    pickle.dump(par_res, open('par_times_v2.p', 'wb'))"
   ]
  },
  {
   "cell_type": "code",
   "execution_count": null,
   "metadata": {
    "collapsed": true
   },
   "outputs": [],
   "source": []
  }
 ],
 "metadata": {
  "anaconda-cloud": {},
  "kernelspec": {
   "display_name": "Python [conda env:cuda]",
   "language": "python",
   "name": "conda-env-cuda-py"
  },
  "language_info": {
   "codemirror_mode": {
    "name": "ipython",
    "version": 3
   },
   "file_extension": ".py",
   "mimetype": "text/x-python",
   "name": "python",
   "nbconvert_exporter": "python",
   "pygments_lexer": "ipython3",
   "version": "3.5.2"
  }
 },
 "nbformat": 4,
 "nbformat_minor": 1
}
