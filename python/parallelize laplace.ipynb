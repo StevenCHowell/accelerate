{
 "cells": [
  {
   "cell_type": "markdown",
   "metadata": {},
   "source": [
    "Code adapted from NVIDIA OpenACC example: laplace2d-kernels.c\n",
    "\n",
    "Copyright (c) 2012, NVIDIA CORPORATION. All rights reserved.\n",
    "\n",
    "Redistribution and use in source and binary forms, with or without\n",
    "modification, are permitted provided that the following conditions\n",
    "are met:\n",
    " * Redistributions of source code must retain the above copyright\n",
    "   notice, this list of conditions and the following disclaimer.\n",
    " * Redistributions in binary form must reproduce the above copyright\n",
    "   notice, this list of conditions and the following disclaimer in the\n",
    "   documentation and/or other materials provided with the distribution.\n",
    " * Neither the name of NVIDIA CORPORATION nor the names of its\n",
    "   contributors may be used to endorse or promote products derived\n",
    "   from this software without specific prior written permission.\n",
    "\n",
    "THIS SOFTWARE IS PROVIDED BY THE COPYRIGHT HOLDERS ''AS IS'' AND ANY\n",
    "EXPRESS OR IMPLIED WARRANTIES, INCLUDING, BUT NOT LIMITED TO, THE\n",
    "IMPLIED WARRANTIES OF MERCHANTABILITY AND FITNESS FOR A PARTICULAR\n",
    "PURPOSE ARE DISCLAIMED.  IN NO EVENT SHALL THE COPYRIGHT OWNER OR\n",
    "CONTRIBUTORS BE LIABLE FOR ANY DIRECT, INDIRECT, INCIDENTAL, SPECIAL,\n",
    "EXEMPLARY, OR CONSEQUENTIAL DAMAGES (INCLUDING, BUT NOT LIMITED TO,\n",
    "PROCUREMENT OF SUBSTITUTE GOODS OR SERVICES; LOSS OF USE, DATA, OR\n",
    "PROFITS; OR BUSINESS INTERRUPTION) HOWEVER CAUSED AND ON ANY THEORY\n",
    "OF LIABILITY, WHETHER IN CONTRACT, STRICT LIABILITY, OR TORT\n",
    "(INCLUDING NEGLIGENCE OR OTHERWISE) ARISING IN ANY WAY OUT OF THE USE\n",
    "OF THIS SOFTWARE, EVEN IF ADVISED OF THE POSSIBILITY OF SUCH DAMAGE."
   ]
  },
  {
   "cell_type": "code",
   "execution_count": 1,
   "metadata": {
    "collapsed": false
   },
   "outputs": [],
   "source": [
    "%load_ext line_profiler"
   ]
  },
  {
   "cell_type": "code",
   "execution_count": 2,
   "metadata": {
    "collapsed": true
   },
   "outputs": [],
   "source": [
    "%load_ext snakeviz"
   ]
  },
  {
   "cell_type": "code",
   "execution_count": 3,
   "metadata": {
    "collapsed": true
   },
   "outputs": [],
   "source": [
    "import numpy as np\n",
    "import time"
   ]
  },
  {
   "cell_type": "code",
   "execution_count": 4,
   "metadata": {
    "collapsed": true
   },
   "outputs": [],
   "source": [
    "import pickle"
   ]
  },
  {
   "cell_type": "code",
   "execution_count": 5,
   "metadata": {
    "collapsed": true
   },
   "outputs": [],
   "source": [
    "from numba import guvectorize"
   ]
  },
  {
   "cell_type": "code",
   "execution_count": 6,
   "metadata": {
    "collapsed": true
   },
   "outputs": [],
   "source": [
    "from math import fabs"
   ]
  },
  {
   "cell_type": "code",
   "execution_count": 7,
   "metadata": {
    "collapsed": true
   },
   "outputs": [],
   "source": [
    "from numba import jit, njit"
   ]
  },
  {
   "cell_type": "code",
   "execution_count": 8,
   "metadata": {
    "collapsed": false
   },
   "outputs": [],
   "source": [
    "pow_max = 13\n",
    "N = [2 ** val for val in range(2, pow_max)]"
   ]
  },
  {
   "cell_type": "code",
   "execution_count": 5,
   "metadata": {
    "collapsed": true
   },
   "outputs": [],
   "source": [
    "def np_laplace(n=4096, m=4096, iteration_max = 1000, debug=False):\n",
    "\n",
    "    pi = np.pi\n",
    "    tol = 1.0e-5\n",
    "    error = 1.0\n",
    "\n",
    "    A = np.zeros((n, m))\n",
    "\n",
    "    j_range = np.arange(n)\n",
    "    y0 = np.sin(pi * j_range / (n - 1))\n",
    "    A[:, 0]  = y0\n",
    "    A[:, -1] = y0 * np.exp(-pi)\n",
    "\n",
    "    if debug: print('Jacobi relaxation Calculation: {} x {} mesh\\n'.format(n, m))\n",
    "\n",
    "    tic = time.time()\n",
    "    iteration = 0\n",
    "\n",
    "    Anew = np.copy(A)\n",
    "\n",
    "    while error > tol and iteration < iteration_max:\n",
    "        error = 0.0\n",
    "        Anew[1:-1, 1:-1] = 0.25 * (A[1:-1, 2:] + A[1:-1, :-2] + A[2:, 1:-1] + A[:-2, 1:-1])      \n",
    "        diff = np.abs(Anew[1:-1, 1:-1] - A[1:-1, 1:-1])\n",
    "        error_new = np.max(diff)\n",
    "        if error_new > error:\n",
    "            error = error_new\n",
    "        A[:] = Anew[:]\n",
    "\n",
    "        if debug and not iteration % 100:\n",
    "            print(\"{:5d}, {:0.6f}\\n\".format(iteration, error))\n",
    "\n",
    "        iteration += 1\n",
    "\n",
    "    toc = time.time() - tic\n",
    "\n",
    "    if debug: print(\" total: {} s\\n\".format(toc))\n",
    "    \n",
    "    return A"
   ]
  },
  {
   "cell_type": "code",
   "execution_count": 6,
   "metadata": {
    "collapsed": false
   },
   "outputs": [],
   "source": [
    "res = np_laplace(12, 12)"
   ]
  },
  {
   "cell_type": "code",
   "execution_count": 7,
   "metadata": {
    "collapsed": false
   },
   "outputs": [
    {
     "name": "stdout",
     "output_type": "stream",
     "text": [
      "Jacobi relaxation Calculation: 512 x 512 mesh\n",
      "\n",
      "    0, 0.249999\n",
      "\n",
      "  100, 0.002395\n",
      "\n",
      "  200, 0.001202\n",
      "\n",
      "  300, 0.000801\n",
      "\n",
      "  400, 0.000601\n",
      "\n",
      "  500, 0.000481\n",
      "\n",
      "  600, 0.000400\n",
      "\n",
      "  700, 0.000343\n",
      "\n",
      "  800, 0.000300\n",
      "\n",
      "  900, 0.000266\n",
      "\n",
      " total: 2.3715338706970215 s\n",
      "\n"
     ]
    }
   ],
   "source": [
    "%lprun -f np_laplace np_laplace(512,512,debug=True) # do not use spaces, it confuses the profiler"
   ]
  },
  {
   "cell_type": "code",
   "execution_count": 6,
   "metadata": {
    "collapsed": false
   },
   "outputs": [
    {
     "data": {
      "text/plain": [
       "[4, 8, 16, 32, 64, 128, 256, 512, 1024, 2048, 4096]"
      ]
     },
     "execution_count": 6,
     "metadata": {},
     "output_type": "execute_result"
    }
   ],
   "source": [
    "N"
   ]
  },
  {
   "cell_type": "code",
   "execution_count": 10,
   "metadata": {
    "collapsed": false,
    "scrolled": true
   },
   "outputs": [
    {
     "name": "stdout",
     "output_type": "stream",
     "text": [
      "3 loops, best of 3: 631 µs per loop\n",
      "3 loops, best of 3: 2.74 ms per loop\n",
      "3 loops, best of 3: 8.13 ms per loop\n",
      "3 loops, best of 3: 27.2 ms per loop\n",
      "3 loops, best of 3: 56.4 ms per loop\n",
      "3 loops, best of 3: 154 ms per loop\n",
      "3 loops, best of 3: 538 ms per loop\n",
      "3 loops, best of 3: 2.02 s per loop\n",
      "3 loops, best of 3: 10.1 s per loop\n",
      "3 loops, best of 3: 56.7 s per loop\n",
      "3 loops, best of 3: 4min 28s per loop\n"
     ]
    }
   ],
   "source": [
    "np_res = {}\n",
    "for n in N:\n",
    "    res = %timeit -o -n 3 np_laplace(n, n)\n",
    "    np_res[n] = res\n",
    "pickle.dump(np_res, open('np_times.p', 'wb'))"
   ]
  },
  {
   "cell_type": "code",
   "execution_count": 11,
   "metadata": {
    "collapsed": false
   },
   "outputs": [
    {
     "data": {
      "text/plain": [
       "{4: <TimeitResult : 3 loops, best of 3: 631 µs per loop>,\n",
       " 8: <TimeitResult : 3 loops, best of 3: 2.74 ms per loop>,\n",
       " 16: <TimeitResult : 3 loops, best of 3: 8.13 ms per loop>,\n",
       " 32: <TimeitResult : 3 loops, best of 3: 27.2 ms per loop>,\n",
       " 64: <TimeitResult : 3 loops, best of 3: 56.4 ms per loop>,\n",
       " 128: <TimeitResult : 3 loops, best of 3: 154 ms per loop>,\n",
       " 256: <TimeitResult : 3 loops, best of 3: 538 ms per loop>,\n",
       " 512: <TimeitResult : 3 loops, best of 3: 2.02 s per loop>,\n",
       " 1024: <TimeitResult : 3 loops, best of 3: 10.1 s per loop>,\n",
       " 2048: <TimeitResult : 3 loops, best of 3: 56.7 s per loop>,\n",
       " 4096: <TimeitResult : 3 loops, best of 3: 4min 28s per loop>}"
      ]
     },
     "execution_count": 11,
     "metadata": {},
     "output_type": "execute_result"
    }
   ],
   "source": [
    "np_res"
   ]
  },
  {
   "cell_type": "markdown",
   "metadata": {},
   "source": [
    "# Adding numba jit decorator"
   ]
  },
  {
   "cell_type": "code",
   "execution_count": 13,
   "metadata": {
    "collapsed": false
   },
   "outputs": [],
   "source": [
    "@jit(['float32[:,:], float32[:,:]',\n",
    "      'float64[:,:], float64[:,:]'],\n",
    "      nopython=True)\n",
    "def update_a_jit(A, Anew):\n",
    "    error = 0.0\n",
    "    n, m = A.shape\n",
    "\n",
    "    for j in range(1, n-1):\n",
    "        for i in range(1, m-1):\n",
    "            Anew[j, i] = 0.25 * (A[j, i+1] + A[j, i-1] + A[j-1, i] + A[j+1, i])\n",
    "            error = max(error, abs(Anew[j, i] - A[j, i]))\n",
    "\n",
    "    return Anew, error"
   ]
  },
  {
   "cell_type": "code",
   "execution_count": 14,
   "metadata": {
    "collapsed": false
   },
   "outputs": [],
   "source": [
    "# this did not make much difference\n",
    "@jit(['float32[:,:], float32[:,:]',\n",
    "      'float64[:,:], float64[:,:]'],\n",
    "      nopython=True)\n",
    "def a_to_anew_jit(A, Anew):\n",
    "    error = 0.0\n",
    "    n, m = A.shape\n",
    "    \n",
    "    for j in range(1, n-1):\n",
    "        for i in range(1, m-1):\n",
    "            A[j, i] = Anew[j, i]\n",
    "    \n",
    "    return A"
   ]
  },
  {
   "cell_type": "code",
   "execution_count": 15,
   "metadata": {
    "collapsed": true
   },
   "outputs": [],
   "source": [
    "def jit_laplace(n=4096, m=4096, iteration_max = 1000, debug=False):\n",
    "\n",
    "    pi = np.pi\n",
    "    tol = 1.0e-5\n",
    "    error = 1.0\n",
    "\n",
    "    A = np.zeros((n, m))\n",
    "\n",
    "    j_range = np.arange(n)\n",
    "    y0 = np.sin(pi * j_range / (n - 1))\n",
    "    A[:, 0]  = y0\n",
    "    A[:, -1] = y0 * np.exp(-pi)\n",
    "\n",
    "    if debug: print('Jacobi relaxation Calculation: {} x {} mesh\\n'.format(n, m))\n",
    "\n",
    "    tic = time.time()\n",
    "    iteration = 0\n",
    "\n",
    "    Anew = np.copy(A)\n",
    "\n",
    "    while error > tol and iteration < iteration_max:\n",
    "        Anew, error = update_a_jit(A, Anew)\n",
    "        # A[:] = Anew[:]\n",
    "        A = a_to_anew_jit(A, Anew)  # this was essentially the same as the line above\n",
    "\n",
    "        if debug and not iteration % 100:\n",
    "            print(\"{:5d}, {:0.6f}\\n\".format(iteration, error))\n",
    "\n",
    "        iteration += 1\n",
    "\n",
    "    toc = time.time() - tic\n",
    "\n",
    "    if debug: print(\" total: {} s\\n\".format(toc))\n",
    "    \n",
    "    return A"
   ]
  },
  {
   "cell_type": "code",
   "execution_count": 16,
   "metadata": {
    "collapsed": false
   },
   "outputs": [],
   "source": [
    "res = jit_laplace(512, 512) # once to compile"
   ]
  },
  {
   "cell_type": "code",
   "execution_count": 17,
   "metadata": {
    "collapsed": false
   },
   "outputs": [
    {
     "name": "stdout",
     "output_type": "stream",
     "text": [
      "Jacobi relaxation Calculation: 512 x 512 mesh\n",
      "\n",
      "    0, 0.249999\n",
      "\n",
      "  100, 0.002395\n",
      "\n",
      "  200, 0.001202\n",
      "\n",
      "  300, 0.000801\n",
      "\n",
      "  400, 0.000601\n",
      "\n",
      "  500, 0.000481\n",
      "\n",
      "  600, 0.000400\n",
      "\n",
      "  700, 0.000343\n",
      "\n",
      "  800, 0.000300\n",
      "\n",
      "  900, 0.000266\n",
      "\n",
      " total: 0.7033450603485107 s\n",
      "\n"
     ]
    }
   ],
   "source": [
    "%lprun -f jit_laplace jit_laplace(512,512,debug=True) # do not use spaces, it confuses the profiler"
   ]
  },
  {
   "cell_type": "code",
   "execution_count": 18,
   "metadata": {
    "collapsed": false,
    "scrolled": true
   },
   "outputs": [
    {
     "name": "stdout",
     "output_type": "stream",
     "text": [
      "3 loops, best of 3: 47.4 µs per loop\n",
      "3 loops, best of 3: 128 µs per loop\n",
      "3 loops, best of 3: 535 µs per loop\n",
      "3 loops, best of 3: 3.38 ms per loop\n",
      "3 loops, best of 3: 9.89 ms per loop\n",
      "3 loops, best of 3: 35.7 ms per loop\n",
      "3 loops, best of 3: 159 ms per loop\n",
      "3 loops, best of 3: 669 ms per loop\n",
      "3 loops, best of 3: 2.7 s per loop\n",
      "3 loops, best of 3: 14.1 s per loop\n",
      "3 loops, best of 3: 55.9 s per loop\n"
     ]
    }
   ],
   "source": [
    "jit_res = {}\n",
    "for n in N:\n",
    "    res = %timeit -o -n 3 jit_laplace(n, n)\n",
    "    jit_res[n] = res\n",
    "pickle.dump(jit_res, open('jit_times.p', 'wb'))"
   ]
  },
  {
   "cell_type": "markdown",
   "metadata": {},
   "source": [
    "# Implementing `guvectorize`"
   ]
  },
  {
   "cell_type": "markdown",
   "metadata": {},
   "source": [
    "### CPU Vectorization"
   ]
  },
  {
   "cell_type": "code",
   "execution_count": 21,
   "metadata": {
    "collapsed": false
   },
   "outputs": [],
   "source": [
    "@guvectorize(['float32[:,:], float32[:,:]',\n",
    "              'float64[:,:], float64[:,:]'],\n",
    "             '(n,m)->(n,m)', nopython=True,\n",
    "             target='cpu')\n",
    "def update_a_serial0(A, Anew):\n",
    "    n, m = A.shape\n",
    "    for j in range(1, n-1):\n",
    "        for i in range(1, m-1):\n",
    "            Anew[j, i] = 0.25 * (A[j, i+1] + A[j, i-1] + A[j-1, i] + A[j+1, i])"
   ]
  },
  {
   "cell_type": "code",
   "execution_count": 22,
   "metadata": {
    "collapsed": false
   },
   "outputs": [],
   "source": [
    "@guvectorize(['float32[:,:], float32[:,:], float32[:]',\n",
    "              'float64[:,:], float64[:,:], float64[:]'],\n",
    "             '(n,m)->(n,m),()', nopython=True, target='cpu')\n",
    "def update_a_serial(A, Anew, error):\n",
    "    n, m = A.shape\n",
    "    for j in range(1, n-1):\n",
    "        for i in range(1, m-1):\n",
    "            Anew[j, i] = 0.25 * (A[j, i+1] + A[j, i-1] + A[j-1, i] + A[j+1, i])\n",
    "\n",
    "            diff = abs(Anew[j, i] - A[j, i])\n",
    "            if diff > error[0]:\n",
    "                error[0] = diff"
   ]
  },
  {
   "cell_type": "code",
   "execution_count": 23,
   "metadata": {
    "collapsed": false
   },
   "outputs": [
    {
     "data": {
      "text/plain": [
       "(0.25, 0.25)"
      ]
     },
     "execution_count": 23,
     "metadata": {},
     "output_type": "execute_result"
    }
   ],
   "source": [
    "A = np.zeros((4,4))\n",
    "A[:, [0, -1]] = 1.0\n",
    "Anew = np.zeros_like(A)\n",
    "error = np.zeros(1)\n",
    "Anew, error = update_a_serial(A, Anew, error)\n",
    "np.max(np.abs(Anew[1:-1, 1:-1] - A[1:-1, 1:-1])), error[0]"
   ]
  },
  {
   "cell_type": "code",
   "execution_count": 24,
   "metadata": {
    "collapsed": false
   },
   "outputs": [],
   "source": [
    "def cpu_laplace(n=4096, m=4096, iteration_max = 1000, debug=False):\n",
    "\n",
    "    pi = np.pi\n",
    "    tol = 1.0e-5\n",
    "    error = np.ones(1)\n",
    "\n",
    "    A = np.zeros((n, m))\n",
    "\n",
    "    j_range = np.arange(n)\n",
    "    y0 = np.sin(pi * j_range / (n - 1))\n",
    "    A[:, 0]  = y0\n",
    "    A[:, -1] = y0 * np.exp(-pi)\n",
    "\n",
    "    if debug: print('Jacobi relaxation Calculation: {} x {} mesh\\n'.format(n, m))\n",
    "\n",
    "    tic = time.time()\n",
    "    iteration = 0\n",
    "\n",
    "    Anew = np.copy(A)\n",
    "    while error[0] > tol and iteration < iteration_max:\n",
    "        error[0] = 0.0\n",
    "        Anew, error = update_a_serial(A, Anew, error)\n",
    "        A[:] = Anew[:]\n",
    "\n",
    "        if debug and not iteration % 100:\n",
    "            print(\"{:5d}, {:0.6f}\\n\".format(iteration, error[0]))\n",
    "\n",
    "        iteration += 1\n",
    "\n",
    "    toc = time.time() - tic\n",
    "\n",
    "    if debug: print(\" total: {} s\\n\".format(toc))\n",
    "    \n",
    "    return A"
   ]
  },
  {
   "cell_type": "code",
   "execution_count": 25,
   "metadata": {
    "collapsed": false,
    "scrolled": true
   },
   "outputs": [],
   "source": [
    "res = cpu_laplace(512, 512)"
   ]
  },
  {
   "cell_type": "code",
   "execution_count": 26,
   "metadata": {
    "collapsed": false
   },
   "outputs": [
    {
     "name": "stdout",
     "output_type": "stream",
     "text": [
      "Jacobi relaxation Calculation: 512 x 512 mesh\n",
      "\n",
      "    0, 0.249999\n",
      "\n",
      "  100, 0.002395\n",
      "\n",
      "  200, 0.001202\n",
      "\n",
      "  300, 0.000801\n",
      "\n",
      "  400, 0.000601\n",
      "\n",
      "  500, 0.000481\n",
      "\n",
      "  600, 0.000400\n",
      "\n",
      "  700, 0.000343\n",
      "\n",
      "  800, 0.000300\n",
      "\n",
      "  900, 0.000266\n",
      "\n",
      " total: 2.6767690181732178 s\n",
      "\n"
     ]
    }
   ],
   "source": [
    "%lprun -f cpu_laplace cpu_laplace(512,512,debug=True) # do not use spaces, it confuses the profiler"
   ]
  },
  {
   "cell_type": "code",
   "execution_count": 27,
   "metadata": {
    "collapsed": false
   },
   "outputs": [
    {
     "name": "stdout",
     "output_type": "stream",
     "text": [
      "1 loop, best of 3: 8 s per loop\n"
     ]
    }
   ],
   "source": [
    "%timeit cpu_laplace(1024, 1024)"
   ]
  },
  {
   "cell_type": "code",
   "execution_count": 28,
   "metadata": {
    "collapsed": false,
    "scrolled": true
   },
   "outputs": [
    {
     "name": "stdout",
     "output_type": "stream",
     "text": [
      "3 loops, best of 3: 121 µs per loop\n",
      "3 loops, best of 3: 502 µs per loop\n",
      "3 loops, best of 3: 897 µs per loop\n",
      "3 loops, best of 3: 4.22 ms per loop\n",
      "3 loops, best of 3: 10.9 ms per loop\n",
      "3 loops, best of 3: 42.2 ms per loop\n",
      "3 loops, best of 3: 169 ms per loop\n",
      "3 loops, best of 3: 2.57 s per loop\n",
      "3 loops, best of 3: 8.63 s per loop\n",
      "3 loops, best of 3: 13.6 s per loop\n",
      "3 loops, best of 3: 53.2 s per loop\n"
     ]
    }
   ],
   "source": [
    "cpu_res = {}\n",
    "for n in N:\n",
    "    res = %timeit -o -n 3 cpu_laplace(n, n)\n",
    "    cpu_res[n] = res\n",
    "pickle.dump(cpu_res, open('cpu_times.p', 'wb'))"
   ]
  },
  {
   "cell_type": "markdown",
   "metadata": {},
   "source": [
    "### parallel CPU vectorization"
   ]
  },
  {
   "cell_type": "code",
   "execution_count": 29,
   "metadata": {
    "collapsed": false
   },
   "outputs": [],
   "source": [
    "@guvectorize(['float32[:,:], float32[:,:], float32[:]',\n",
    "              'float64[:,:], float64[:,:], float64[:]'],\n",
    "             '(n,m)->(n,m),()', nopython=True, target='parallel')\n",
    "def update_a_parallel(A, Anew, error):\n",
    "    n, m = A.shape\n",
    "    for j in range(1, n-1):\n",
    "        for i in range(1, m-1):\n",
    "            Anew[j, i] = 0.25 * (A[j, i+1] + A[j, i-1] + A[j-1, i] + A[j+1, i])\n",
    "\n",
    "            diff = abs(Anew[j, i] - A[j, i])\n",
    "            if diff > error[0]:\n",
    "                error[0] = diff"
   ]
  },
  {
   "cell_type": "code",
   "execution_count": 30,
   "metadata": {
    "collapsed": false
   },
   "outputs": [],
   "source": [
    "def par_laplace(n=4096, m=4096, iteration_max = 1000, debug=False):\n",
    "\n",
    "    pi = np.pi\n",
    "    tol = 1.0e-5\n",
    "    error = np.ones(1)\n",
    "\n",
    "    A = np.zeros((n, m))\n",
    "\n",
    "    j_range = np.arange(n)\n",
    "    y0 = np.sin(pi * j_range / (n - 1))\n",
    "    A[:, 0]  = y0\n",
    "    A[:, -1] = y0 * np.exp(-pi)\n",
    "\n",
    "    if debug: print('Jacobi relaxation Calculation: {} x {} mesh\\n'.format(n, m))\n",
    "\n",
    "    tic = time.time()\n",
    "    iteration = 0\n",
    "\n",
    "    Anew = np.copy(A)\n",
    "    while error[0] > tol and iteration < iteration_max:\n",
    "        error[0] = 0.0\n",
    "        Anew, error = update_a_parallel(A, Anew, error)\n",
    "        A[:] = Anew[:]\n",
    "\n",
    "        if debug and not iteration % 100:\n",
    "            print(\"{:5d}, {:0.6f}\\n\".format(iteration, error[0]))\n",
    "\n",
    "        iteration += 1\n",
    "\n",
    "    toc = time.time() - tic\n",
    "\n",
    "    if debug: print(\" total: {} s\\n\".format(toc))\n",
    "    \n",
    "    return A"
   ]
  },
  {
   "cell_type": "code",
   "execution_count": 31,
   "metadata": {
    "collapsed": false
   },
   "outputs": [],
   "source": [
    "res = par_laplace(512, 512, debug=False)"
   ]
  },
  {
   "cell_type": "code",
   "execution_count": 32,
   "metadata": {
    "collapsed": false
   },
   "outputs": [
    {
     "name": "stdout",
     "output_type": "stream",
     "text": [
      "Jacobi relaxation Calculation: 512 x 512 mesh\n",
      "\n",
      "    0, 0.249999\n",
      "\n",
      "  100, 0.002395\n",
      "\n",
      "  200, 0.001202\n",
      "\n",
      "  300, 0.000801\n",
      "\n",
      "  400, 0.000601\n",
      "\n",
      "  500, 0.000481\n",
      "\n",
      "  600, 0.000400\n",
      "\n",
      "  700, 0.000343\n",
      "\n",
      "  800, 0.000300\n",
      "\n",
      "  900, 0.000266\n",
      "\n",
      " total: 2.7831718921661377 s\n",
      "\n"
     ]
    }
   ],
   "source": [
    "%lprun -f par_laplace cpu_laplace(512,512,debug=True) # do not use spaces, it confuses the profiler"
   ]
  },
  {
   "cell_type": "code",
   "execution_count": 33,
   "metadata": {
    "collapsed": false
   },
   "outputs": [
    {
     "name": "stdout",
     "output_type": "stream",
     "text": [
      "1 loop, best of 3: 7.29 s per loop\n"
     ]
    }
   ],
   "source": [
    "%timeit par_laplace(1024, 1024)"
   ]
  },
  {
   "cell_type": "code",
   "execution_count": 34,
   "metadata": {
    "collapsed": false,
    "scrolled": true
   },
   "outputs": [
    {
     "name": "stdout",
     "output_type": "stream",
     "text": [
      "3 loops, best of 3: 1.93 ms per loop\n",
      "3 loops, best of 3: 8.3 ms per loop\n",
      "3 loops, best of 3: 26.3 ms per loop\n",
      "3 loops, best of 3: 73.8 ms per loop\n",
      "3 loops, best of 3: 70.8 ms per loop\n",
      "3 loops, best of 3: 108 ms per loop\n",
      "3 loops, best of 3: 268 ms per loop\n",
      "3 loops, best of 3: 3.5 s per loop\n",
      "3 loops, best of 3: 10.1 s per loop\n",
      "3 loops, best of 3: 15.7 s per loop\n",
      "3 loops, best of 3: 1min 27s per loop\n"
     ]
    }
   ],
   "source": [
    "par_res = {}\n",
    "for n in N:\n",
    "    res = %timeit -o -n 3 par_laplace(n, n)\n",
    "    par_res[n] = res\n",
    "pickle.dump(par_res, open('par_times.p', 'wb'))"
   ]
  },
  {
   "cell_type": "code",
   "execution_count": 40,
   "metadata": {
    "collapsed": false
   },
   "outputs": [
    {
     "data": {
      "text/plain": [
       "({4: <TimeitResult : 3 loops, best of 3: 631 µs per loop>,\n",
       "  8: <TimeitResult : 3 loops, best of 3: 2.74 ms per loop>,\n",
       "  16: <TimeitResult : 3 loops, best of 3: 8.13 ms per loop>,\n",
       "  32: <TimeitResult : 3 loops, best of 3: 27.2 ms per loop>,\n",
       "  64: <TimeitResult : 3 loops, best of 3: 56.4 ms per loop>,\n",
       "  128: <TimeitResult : 3 loops, best of 3: 154 ms per loop>,\n",
       "  256: <TimeitResult : 3 loops, best of 3: 538 ms per loop>,\n",
       "  512: <TimeitResult : 3 loops, best of 3: 2.02 s per loop>,\n",
       "  1024: <TimeitResult : 3 loops, best of 3: 10.1 s per loop>,\n",
       "  2048: <TimeitResult : 3 loops, best of 3: 56.7 s per loop>,\n",
       "  4096: <TimeitResult : 3 loops, best of 3: 4min 28s per loop>},\n",
       " {4: <TimeitResult : 3 loops, best of 3: 47.4 µs per loop>,\n",
       "  8: <TimeitResult : 3 loops, best of 3: 128 µs per loop>,\n",
       "  16: <TimeitResult : 3 loops, best of 3: 535 µs per loop>,\n",
       "  32: <TimeitResult : 3 loops, best of 3: 3.38 ms per loop>,\n",
       "  64: <TimeitResult : 3 loops, best of 3: 9.89 ms per loop>,\n",
       "  128: <TimeitResult : 3 loops, best of 3: 35.7 ms per loop>,\n",
       "  256: <TimeitResult : 3 loops, best of 3: 159 ms per loop>,\n",
       "  512: <TimeitResult : 3 loops, best of 3: 669 ms per loop>,\n",
       "  1024: <TimeitResult : 3 loops, best of 3: 2.7 s per loop>,\n",
       "  2048: <TimeitResult : 3 loops, best of 3: 14.1 s per loop>,\n",
       "  4096: <TimeitResult : 3 loops, best of 3: 55.9 s per loop>},\n",
       " {4: <TimeitResult : 3 loops, best of 3: 121 µs per loop>,\n",
       "  8: <TimeitResult : 3 loops, best of 3: 502 µs per loop>,\n",
       "  16: <TimeitResult : 3 loops, best of 3: 897 µs per loop>,\n",
       "  32: <TimeitResult : 3 loops, best of 3: 4.22 ms per loop>,\n",
       "  64: <TimeitResult : 3 loops, best of 3: 10.9 ms per loop>,\n",
       "  128: <TimeitResult : 3 loops, best of 3: 42.2 ms per loop>,\n",
       "  256: <TimeitResult : 3 loops, best of 3: 169 ms per loop>,\n",
       "  512: <TimeitResult : 3 loops, best of 3: 2.57 s per loop>,\n",
       "  1024: <TimeitResult : 3 loops, best of 3: 8.63 s per loop>,\n",
       "  2048: <TimeitResult : 3 loops, best of 3: 13.6 s per loop>,\n",
       "  4096: <TimeitResult : 3 loops, best of 3: 53.2 s per loop>},\n",
       " {4: <TimeitResult : 3 loops, best of 3: 1.93 ms per loop>,\n",
       "  8: <TimeitResult : 3 loops, best of 3: 8.3 ms per loop>,\n",
       "  16: <TimeitResult : 3 loops, best of 3: 26.3 ms per loop>,\n",
       "  32: <TimeitResult : 3 loops, best of 3: 73.8 ms per loop>,\n",
       "  64: <TimeitResult : 3 loops, best of 3: 70.8 ms per loop>,\n",
       "  128: <TimeitResult : 3 loops, best of 3: 108 ms per loop>,\n",
       "  256: <TimeitResult : 3 loops, best of 3: 268 ms per loop>,\n",
       "  512: <TimeitResult : 3 loops, best of 3: 3.5 s per loop>,\n",
       "  1024: <TimeitResult : 3 loops, best of 3: 10.1 s per loop>,\n",
       "  2048: <TimeitResult : 3 loops, best of 3: 15.7 s per loop>,\n",
       "  4096: <TimeitResult : 3 loops, best of 3: 1min 27s per loop>})"
      ]
     },
     "execution_count": 40,
     "metadata": {},
     "output_type": "execute_result"
    }
   ],
   "source": [
    "np_res, jit_res, cpu_res, par_res"
   ]
  },
  {
   "cell_type": "code",
   "execution_count": 42,
   "metadata": {
    "collapsed": true
   },
   "outputs": [],
   "source": [
    "with open('par_times.p', 'rb') as f:\n",
    "    par_load = pickle.load(f)"
   ]
  },
  {
   "cell_type": "code",
   "execution_count": 44,
   "metadata": {
    "collapsed": false
   },
   "outputs": [
    {
     "data": {
      "text/plain": [
       "({4: <TimeitResult : 3 loops, best of 3: 1.93 ms per loop>,\n",
       "  8: <TimeitResult : 3 loops, best of 3: 8.3 ms per loop>,\n",
       "  16: <TimeitResult : 3 loops, best of 3: 26.3 ms per loop>,\n",
       "  32: <TimeitResult : 3 loops, best of 3: 73.8 ms per loop>,\n",
       "  64: <TimeitResult : 3 loops, best of 3: 70.8 ms per loop>,\n",
       "  128: <TimeitResult : 3 loops, best of 3: 108 ms per loop>,\n",
       "  256: <TimeitResult : 3 loops, best of 3: 268 ms per loop>,\n",
       "  512: <TimeitResult : 3 loops, best of 3: 3.5 s per loop>,\n",
       "  1024: <TimeitResult : 3 loops, best of 3: 10.1 s per loop>,\n",
       "  2048: <TimeitResult : 3 loops, best of 3: 15.7 s per loop>,\n",
       "  4096: <TimeitResult : 3 loops, best of 3: 1min 27s per loop>},\n",
       " {4: <TimeitResult : 3 loops, best of 3: 1.93 ms per loop>,\n",
       "  8: <TimeitResult : 3 loops, best of 3: 8.3 ms per loop>,\n",
       "  16: <TimeitResult : 3 loops, best of 3: 26.3 ms per loop>,\n",
       "  32: <TimeitResult : 3 loops, best of 3: 73.8 ms per loop>,\n",
       "  64: <TimeitResult : 3 loops, best of 3: 70.8 ms per loop>,\n",
       "  128: <TimeitResult : 3 loops, best of 3: 108 ms per loop>,\n",
       "  256: <TimeitResult : 3 loops, best of 3: 268 ms per loop>,\n",
       "  512: <TimeitResult : 3 loops, best of 3: 3.5 s per loop>,\n",
       "  1024: <TimeitResult : 3 loops, best of 3: 10.1 s per loop>,\n",
       "  2048: <TimeitResult : 3 loops, best of 3: 15.7 s per loop>,\n",
       "  4096: <TimeitResult : 3 loops, best of 3: 1min 27s per loop>})"
      ]
     },
     "execution_count": 44,
     "metadata": {},
     "output_type": "execute_result"
    }
   ],
   "source": [
    "par_load, par_res"
   ]
  },
  {
   "cell_type": "markdown",
   "metadata": {},
   "source": [
    "### CUDA vectorization"
   ]
  },
  {
   "cell_type": "code",
   "execution_count": 35,
   "metadata": {
    "collapsed": false
   },
   "outputs": [],
   "source": [
    "@guvectorize(['float32[:,:], float32[:,:]',\n",
    "              'float64[:,:], float64[:,:]'],\n",
    "             '(n,m)->(n,m)', nopython=True, target='cuda')\n",
    "def update_a_cuda(A, Anew):\n",
    "    n, m = A.shape\n",
    "    for j in range(1, n-1):\n",
    "        for i in range(1, m-1):\n",
    "            Anew[j, i] = 0.25 * (A[j, i+1] + A[j, i-1] + A[j-1, i] + A[j+1, i])"
   ]
  },
  {
   "cell_type": "code",
   "execution_count": 36,
   "metadata": {
    "collapsed": false
   },
   "outputs": [],
   "source": [
    "@guvectorize(['float32[:,:], float32[:,:], float32[:]',\n",
    "              'float64[:,:], float64[:,:], float64[:]'],\n",
    "             '(n,m),(n,m)->()', nopython=True, target='cuda')\n",
    "def update_error_cuda(A, Anew, error):\n",
    "    n, m = A.shape\n",
    "    for j in range(1, n-1):\n",
    "        for i in range(1, m-1):\n",
    "            diff = abs(Anew[j, i] - A[j, i])\n",
    "            if diff > error[0]:\n",
    "                error[0] = diff"
   ]
  },
  {
   "cell_type": "code",
   "execution_count": 38,
   "metadata": {
    "collapsed": false
   },
   "outputs": [
    {
     "data": {
      "text/plain": [
       "array([[  0.,   0.,   0.,   0.],\n",
       "       [  0.,   5.,   6.,   0.],\n",
       "       [  0.,   9.,  10.,   0.],\n",
       "       [  0.,   0.,   0.,   0.]], dtype=float32)"
      ]
     },
     "execution_count": 38,
     "metadata": {},
     "output_type": "execute_result"
    }
   ],
   "source": [
    "a = np.arange(16, dtype=np.float32).reshape(4, 4)\n",
    "anew = np.zeros((4, 4), dtype=np.float32)\n",
    "anew[1:-1, 1:-1] = update_a_cuda(a)[1:-1, 1:-1]\n",
    "anew"
   ]
  },
  {
   "cell_type": "code",
   "execution_count": 39,
   "metadata": {
    "collapsed": false
   },
   "outputs": [],
   "source": [
    "def cuda_laplace(n=4096, m=4096, iteration_max = 1000, debug=False):\n",
    "\n",
    "    dtype=np.float32\n",
    "    \n",
    "    pi = np.pi\n",
    "    tol = 1.0e-5\n",
    "    error = np.ones(1)\n",
    "    \n",
    "    A = np.zeros((n, m), dtype=dtype)\n",
    "\n",
    "    j_range = np.arange(n)\n",
    "    y0 = np.sin(pi * j_range / (n - 1))\n",
    "    A[:, 0]  = y0\n",
    "    A[:, -1] = y0 * np.exp(-pi)\n",
    "\n",
    "    if debug: print('Jacobi relaxation Calculation: {} x {} mesh\\n'.format(n, m))\n",
    "\n",
    "    tic = time.time()\n",
    "    iteration = 0\n",
    "\n",
    "    Anew = np.copy(A)\n",
    "    while error[0] > tol and iteration < iteration_max:\n",
    "        error[0] = 0.0\n",
    "        res = update_a_cuda(A)\n",
    "        Anew[1:-1, 1:-1] = res[1:-1, 1:-1]\n",
    "        error = update_error_cuda(A, Anew)\n",
    "        A[:] = Anew[:]\n",
    "\n",
    "        if debug and not iteration % 100:\n",
    "            print(\"{:5d}, {:0.6f}\\n\".format(iteration, error[0]))\n",
    "\n",
    "        iteration += 1\n",
    "\n",
    "    toc = time.time() - tic\n",
    "\n",
    "    if debug: print(\" total: {} s\\n\".format(toc))\n",
    "    \n",
    "    return A"
   ]
  },
  {
   "cell_type": "code",
   "execution_count": 40,
   "metadata": {
    "collapsed": false
   },
   "outputs": [],
   "source": [
    "res = cuda_laplace(512, 512, debug=False)"
   ]
  },
  {
   "cell_type": "code",
   "execution_count": 41,
   "metadata": {
    "collapsed": false
   },
   "outputs": [
    {
     "name": "stdout",
     "output_type": "stream",
     "text": [
      "Jacobi relaxation Calculation: 512 x 512 mesh\n",
      "\n",
      "    0, 0.249999\n",
      "\n",
      "  100, 0.124997\n",
      "\n",
      "  200, 0.249999\n",
      "\n",
      "  300, 0.054685\n",
      "\n",
      "  400, 0.124997\n",
      "\n",
      "  500, 0.249999\n",
      "\n",
      "  600, 0.124997\n",
      "\n",
      "  700, 0.054685\n",
      "\n",
      "  800, 0.000300\n",
      "\n",
      "  900, 0.000266\n",
      "\n",
      " total: 145.69989371299744 s\n",
      "\n"
     ]
    }
   ],
   "source": [
    "%lprun -f cuda_laplace cuda_laplace(512,512,debug=True) # do not use spaces, it confuses the profiler"
   ]
  },
  {
   "cell_type": "code",
   "execution_count": 44,
   "metadata": {
    "collapsed": false,
    "scrolled": true
   },
   "outputs": [
    {
     "name": "stdout",
     "output_type": "stream",
     "text": [
      "3 loops, best of 3: 32.7 ms per loop\n",
      "3 loops, best of 3: 132 ms per loop\n",
      "3 loops, best of 3: 525 ms per loop\n",
      "3 loops, best of 3: 2.23 s per loop\n",
      "3 loops, best of 3: 3.75 s per loop\n",
      "3 loops, best of 3: 10.5 s per loop\n"
     ]
    }
   ],
   "source": [
    "cuda_res = {}\n",
    "for n in N[:6]:\n",
    "    res = %timeit -o -n 3 cuda_laplace(n, n)\n",
    "    cuda_res[n] = res\n",
    "pickle.dump(cuda_res, open('cuda_times.p', 'wb'))"
   ]
  },
  {
   "cell_type": "markdown",
   "metadata": {
    "collapsed": true
   },
   "source": [
    "This is much slower, likely because of data transfer after each iteration.  I will try to put the entire while loop on the GPU."
   ]
  },
  {
   "cell_type": "code",
   "execution_count": 9,
   "metadata": {
    "collapsed": false
   },
   "outputs": [],
   "source": [
    "@guvectorize([\n",
    "        'float32[:,:], float32[:,:]',\n",
    "        'float64[:,:], float64[:,:]',\n",
    "    ], '(n,m)->(n,m)', target='cuda', nopython=True)\n",
    "def iterate_a(A, Anew):\n",
    "    n, m = A.shape\n",
    "    tol = 1.0e-5\n",
    "    iteration_max = 1000\n",
    "    error = 1.0\n",
    "    iteration = 0\n",
    "\n",
    "    # main loop\n",
    "    while error > tol and iteration < iteration_max:\n",
    "        error = 0.0\n",
    "        for j in range(1, n-1):\n",
    "            for i in range(1, m-1):\n",
    "                Anew[j, i] = 0.25 * (A[j, i+1] + A[j, i-1] + A[j-1, i] + A[j+1, i])\n",
    "                diff = abs(Anew[j, i] - A[j, i])\n",
    "                if diff > error:\n",
    "                    error = diff\n",
    "        \n",
    "        for j in range(1, n-1):\n",
    "            for i in range(1, m-1):\n",
    "                A[j, i] = Anew[j, i]\n",
    "\n",
    "        iteration += 1"
   ]
  },
  {
   "cell_type": "code",
   "execution_count": 10,
   "metadata": {
    "collapsed": false
   },
   "outputs": [],
   "source": [
    "def cuda_laplace(n=4096, m=4096, debug=False):\n",
    "\n",
    "    dtype=np.float32\n",
    "    \n",
    "    pi = np.pi\n",
    "    \n",
    "    A = np.zeros((n, m), dtype=dtype)\n",
    "\n",
    "    j_range = np.arange(n)\n",
    "    y0 = np.sin(pi * j_range / (n - 1))\n",
    "    A[:, 0]  = y0\n",
    "    A[:, -1] = y0 * np.exp(-pi)\n",
    "\n",
    "    if debug: print('Jacobi relaxation Calculation: {} x {} mesh\\n'.format(n, m))\n",
    "\n",
    "    tic = time.time()\n",
    "    iterate_a(A)\n",
    "    toc = time.time() - tic\n",
    "\n",
    "    if debug: print(\" total: {} s\\n\".format(toc))\n",
    "    \n",
    "    return A"
   ]
  },
  {
   "cell_type": "code",
   "execution_count": 14,
   "metadata": {
    "collapsed": false
   },
   "outputs": [
    {
     "name": "stdout",
     "output_type": "stream",
     "text": [
      "Jacobi relaxation Calculation: 16 x 16 mesh\n",
      "\n",
      " total: 0.06943607330322266 s\n",
      "\n"
     ]
    }
   ],
   "source": [
    "res = cuda_laplace(16, 16, debug=True)"
   ]
  },
  {
   "cell_type": "code",
   "execution_count": 15,
   "metadata": {
    "collapsed": false
   },
   "outputs": [
    {
     "data": {
      "text/plain": [
       "array([[  0.00000000e+00,   0.00000000e+00,   0.00000000e+00,\n",
       "          0.00000000e+00,   0.00000000e+00,   0.00000000e+00,\n",
       "          0.00000000e+00,   0.00000000e+00,   0.00000000e+00,\n",
       "          0.00000000e+00,   0.00000000e+00,   0.00000000e+00,\n",
       "          0.00000000e+00,   0.00000000e+00,   0.00000000e+00,\n",
       "          0.00000000e+00],\n",
       "       [  2.07911685e-01,   0.00000000e+00,   0.00000000e+00,\n",
       "          0.00000000e+00,   0.00000000e+00,   0.00000000e+00,\n",
       "          0.00000000e+00,   0.00000000e+00,   0.00000000e+00,\n",
       "          0.00000000e+00,   0.00000000e+00,   0.00000000e+00,\n",
       "          0.00000000e+00,   0.00000000e+00,   0.00000000e+00,\n",
       "          8.98467842e-03],\n",
       "       [  4.06736642e-01,   0.00000000e+00,   0.00000000e+00,\n",
       "          0.00000000e+00,   0.00000000e+00,   0.00000000e+00,\n",
       "          0.00000000e+00,   0.00000000e+00,   0.00000000e+00,\n",
       "          0.00000000e+00,   0.00000000e+00,   0.00000000e+00,\n",
       "          0.00000000e+00,   0.00000000e+00,   0.00000000e+00,\n",
       "          1.75766833e-02],\n",
       "       [  5.87785244e-01,   0.00000000e+00,   0.00000000e+00,\n",
       "          0.00000000e+00,   0.00000000e+00,   0.00000000e+00,\n",
       "          0.00000000e+00,   0.00000000e+00,   0.00000000e+00,\n",
       "          0.00000000e+00,   0.00000000e+00,   0.00000000e+00,\n",
       "          0.00000000e+00,   0.00000000e+00,   0.00000000e+00,\n",
       "          2.54005045e-02],\n",
       "       [  7.43144810e-01,   0.00000000e+00,   0.00000000e+00,\n",
       "          0.00000000e+00,   0.00000000e+00,   0.00000000e+00,\n",
       "          0.00000000e+00,   0.00000000e+00,   0.00000000e+00,\n",
       "          0.00000000e+00,   0.00000000e+00,   0.00000000e+00,\n",
       "          0.00000000e+00,   0.00000000e+00,   0.00000000e+00,\n",
       "          3.21142003e-02],\n",
       "       [  8.66025388e-01,   0.00000000e+00,   0.00000000e+00,\n",
       "          0.00000000e+00,   0.00000000e+00,   0.00000000e+00,\n",
       "          0.00000000e+00,   0.00000000e+00,   0.00000000e+00,\n",
       "          0.00000000e+00,   0.00000000e+00,   0.00000000e+00,\n",
       "          0.00000000e+00,   0.00000000e+00,   0.00000000e+00,\n",
       "          3.74243520e-02],\n",
       "       [  9.51056540e-01,   0.00000000e+00,   0.00000000e+00,\n",
       "          0.00000000e+00,   0.00000000e+00,   0.00000000e+00,\n",
       "          0.00000000e+00,   0.00000000e+00,   0.00000000e+00,\n",
       "          0.00000000e+00,   0.00000000e+00,   0.00000000e+00,\n",
       "          0.00000000e+00,   0.00000000e+00,   0.00000000e+00,\n",
       "          4.10988778e-02],\n",
       "       [  9.94521916e-01,   0.00000000e+00,   0.00000000e+00,\n",
       "          0.00000000e+00,   0.00000000e+00,   0.00000000e+00,\n",
       "          0.00000000e+00,   0.00000000e+00,   0.00000000e+00,\n",
       "          0.00000000e+00,   0.00000000e+00,   0.00000000e+00,\n",
       "          0.00000000e+00,   0.00000000e+00,   0.00000000e+00,\n",
       "          4.29771878e-02],\n",
       "       [  9.94521916e-01,   0.00000000e+00,   0.00000000e+00,\n",
       "          0.00000000e+00,   0.00000000e+00,   0.00000000e+00,\n",
       "          0.00000000e+00,   0.00000000e+00,   0.00000000e+00,\n",
       "          0.00000000e+00,   0.00000000e+00,   0.00000000e+00,\n",
       "          0.00000000e+00,   0.00000000e+00,   0.00000000e+00,\n",
       "          4.29771878e-02],\n",
       "       [  9.51056540e-01,   0.00000000e+00,   0.00000000e+00,\n",
       "          0.00000000e+00,   0.00000000e+00,   0.00000000e+00,\n",
       "          0.00000000e+00,   0.00000000e+00,   0.00000000e+00,\n",
       "          0.00000000e+00,   0.00000000e+00,   0.00000000e+00,\n",
       "          0.00000000e+00,   0.00000000e+00,   0.00000000e+00,\n",
       "          4.10988778e-02],\n",
       "       [  8.66025388e-01,   0.00000000e+00,   0.00000000e+00,\n",
       "          0.00000000e+00,   0.00000000e+00,   0.00000000e+00,\n",
       "          0.00000000e+00,   0.00000000e+00,   0.00000000e+00,\n",
       "          0.00000000e+00,   0.00000000e+00,   0.00000000e+00,\n",
       "          0.00000000e+00,   0.00000000e+00,   0.00000000e+00,\n",
       "          3.74243520e-02],\n",
       "       [  7.43144810e-01,   0.00000000e+00,   0.00000000e+00,\n",
       "          0.00000000e+00,   0.00000000e+00,   0.00000000e+00,\n",
       "          0.00000000e+00,   0.00000000e+00,   0.00000000e+00,\n",
       "          0.00000000e+00,   0.00000000e+00,   0.00000000e+00,\n",
       "          0.00000000e+00,   0.00000000e+00,   0.00000000e+00,\n",
       "          3.21142003e-02],\n",
       "       [  5.87785244e-01,   0.00000000e+00,   0.00000000e+00,\n",
       "          0.00000000e+00,   0.00000000e+00,   0.00000000e+00,\n",
       "          0.00000000e+00,   0.00000000e+00,   0.00000000e+00,\n",
       "          0.00000000e+00,   0.00000000e+00,   0.00000000e+00,\n",
       "          0.00000000e+00,   0.00000000e+00,   0.00000000e+00,\n",
       "          2.54005045e-02],\n",
       "       [  4.06736642e-01,   0.00000000e+00,   0.00000000e+00,\n",
       "          0.00000000e+00,   0.00000000e+00,   0.00000000e+00,\n",
       "          0.00000000e+00,   0.00000000e+00,   0.00000000e+00,\n",
       "          0.00000000e+00,   0.00000000e+00,   0.00000000e+00,\n",
       "          0.00000000e+00,   0.00000000e+00,   0.00000000e+00,\n",
       "          1.75766833e-02],\n",
       "       [  2.07911685e-01,   0.00000000e+00,   0.00000000e+00,\n",
       "          0.00000000e+00,   0.00000000e+00,   0.00000000e+00,\n",
       "          0.00000000e+00,   0.00000000e+00,   0.00000000e+00,\n",
       "          0.00000000e+00,   0.00000000e+00,   0.00000000e+00,\n",
       "          0.00000000e+00,   0.00000000e+00,   0.00000000e+00,\n",
       "          8.98467842e-03],\n",
       "       [  5.66553869e-16,   0.00000000e+00,   0.00000000e+00,\n",
       "          0.00000000e+00,   0.00000000e+00,   0.00000000e+00,\n",
       "          0.00000000e+00,   0.00000000e+00,   0.00000000e+00,\n",
       "          0.00000000e+00,   0.00000000e+00,   0.00000000e+00,\n",
       "          0.00000000e+00,   0.00000000e+00,   0.00000000e+00,\n",
       "          2.44830142e-17]], dtype=float32)"
      ]
     },
     "execution_count": 15,
     "metadata": {},
     "output_type": "execute_result"
    }
   ],
   "source": [
    "res"
   ]
  },
  {
   "cell_type": "code",
   "execution_count": 17,
   "metadata": {
    "collapsed": false
   },
   "outputs": [],
   "source": [
    "# think this crashes...\n",
    "# %lprun -f cuda_laplace cuda_laplace(512,512,debug=True) # do not use spaces, it confuses the profiler"
   ]
  },
  {
   "cell_type": "code",
   "execution_count": 26,
   "metadata": {
    "collapsed": false
   },
   "outputs": [
    {
     "data": {
      "text/plain": [
       "[4, 8, 16]"
      ]
     },
     "execution_count": 26,
     "metadata": {},
     "output_type": "execute_result"
    }
   ],
   "source": [
    "N[:3]"
   ]
  },
  {
   "cell_type": "code",
   "execution_count": 19,
   "metadata": {
    "collapsed": false,
    "scrolled": true
   },
   "outputs": [
    {
     "name": "stdout",
     "output_type": "stream",
     "text": [
      "3 loops, best of 3: 1.59 ms per loop\n",
      "3 loops, best of 3: 4.28 ms per loop\n",
      "3 loops, best of 3: 57.3 ms per loop\n",
      "3 loops, best of 3: 846 ms per loop\n",
      "3 loops, best of 3: 3.58 s per loop\n"
     ]
    },
    {
     "ename": "CudaAPIError",
     "evalue": "[702] Call to cuMemcpyDtoH results in CUDA_ERROR_LAUNCH_TIMEOUT",
     "output_type": "error",
     "traceback": [
      "\u001b[0;31m---------------------------------------------------------------------------\u001b[0m",
      "\u001b[0;31mCudaAPIError\u001b[0m                              Traceback (most recent call last)",
      "\u001b[0;32m<ipython-input-19-83fe9cf2c16d>\u001b[0m in \u001b[0;36m<module>\u001b[0;34m()\u001b[0m\n\u001b[1;32m      1\u001b[0m \u001b[0mcuda_res\u001b[0m \u001b[0;34m=\u001b[0m \u001b[0;34m{\u001b[0m\u001b[0;34m}\u001b[0m\u001b[0;34m\u001b[0m\u001b[0m\n\u001b[1;32m      2\u001b[0m \u001b[0;32mfor\u001b[0m \u001b[0mn\u001b[0m \u001b[0;32min\u001b[0m \u001b[0mN\u001b[0m\u001b[0;34m:\u001b[0m\u001b[0;34m\u001b[0m\u001b[0m\n\u001b[0;32m----> 3\u001b[0;31m     \u001b[0mres\u001b[0m \u001b[0;34m=\u001b[0m \u001b[0mget_ipython\u001b[0m\u001b[0;34m(\u001b[0m\u001b[0;34m)\u001b[0m\u001b[0;34m.\u001b[0m\u001b[0mmagic\u001b[0m\u001b[0;34m(\u001b[0m\u001b[0;34m'timeit -o -n 3 cuda_laplace(n, n)'\u001b[0m\u001b[0;34m)\u001b[0m\u001b[0;34m\u001b[0m\u001b[0m\n\u001b[0m\u001b[1;32m      4\u001b[0m     \u001b[0mcuda_res\u001b[0m\u001b[0;34m[\u001b[0m\u001b[0mn\u001b[0m\u001b[0;34m]\u001b[0m \u001b[0;34m=\u001b[0m \u001b[0mres\u001b[0m\u001b[0;34m\u001b[0m\u001b[0m\n\u001b[1;32m      5\u001b[0m \u001b[0mpickle\u001b[0m\u001b[0;34m.\u001b[0m\u001b[0mdump\u001b[0m\u001b[0;34m(\u001b[0m\u001b[0mcuda_res\u001b[0m\u001b[0;34m,\u001b[0m \u001b[0mopen\u001b[0m\u001b[0;34m(\u001b[0m\u001b[0;34m'cuda_times.p'\u001b[0m\u001b[0;34m,\u001b[0m \u001b[0;34m'wb'\u001b[0m\u001b[0;34m)\u001b[0m\u001b[0;34m)\u001b[0m\u001b[0;34m\u001b[0m\u001b[0m\n",
      "\u001b[0;32m/home/schowell/data/myPrograms/anaconda/envs/cuda/lib/python3.5/site-packages/IPython/core/interactiveshell.py\u001b[0m in \u001b[0;36mmagic\u001b[0;34m(self, arg_s)\u001b[0m\n\u001b[1;32m   2156\u001b[0m         \u001b[0mmagic_name\u001b[0m\u001b[0;34m,\u001b[0m \u001b[0m_\u001b[0m\u001b[0;34m,\u001b[0m \u001b[0mmagic_arg_s\u001b[0m \u001b[0;34m=\u001b[0m \u001b[0marg_s\u001b[0m\u001b[0;34m.\u001b[0m\u001b[0mpartition\u001b[0m\u001b[0;34m(\u001b[0m\u001b[0;34m' '\u001b[0m\u001b[0;34m)\u001b[0m\u001b[0;34m\u001b[0m\u001b[0m\n\u001b[1;32m   2157\u001b[0m         \u001b[0mmagic_name\u001b[0m \u001b[0;34m=\u001b[0m \u001b[0mmagic_name\u001b[0m\u001b[0;34m.\u001b[0m\u001b[0mlstrip\u001b[0m\u001b[0;34m(\u001b[0m\u001b[0mprefilter\u001b[0m\u001b[0;34m.\u001b[0m\u001b[0mESC_MAGIC\u001b[0m\u001b[0;34m)\u001b[0m\u001b[0;34m\u001b[0m\u001b[0m\n\u001b[0;32m-> 2158\u001b[0;31m         \u001b[0;32mreturn\u001b[0m \u001b[0mself\u001b[0m\u001b[0;34m.\u001b[0m\u001b[0mrun_line_magic\u001b[0m\u001b[0;34m(\u001b[0m\u001b[0mmagic_name\u001b[0m\u001b[0;34m,\u001b[0m \u001b[0mmagic_arg_s\u001b[0m\u001b[0;34m)\u001b[0m\u001b[0;34m\u001b[0m\u001b[0m\n\u001b[0m\u001b[1;32m   2159\u001b[0m \u001b[0;34m\u001b[0m\u001b[0m\n\u001b[1;32m   2160\u001b[0m     \u001b[0;31m#-------------------------------------------------------------------------\u001b[0m\u001b[0;34m\u001b[0m\u001b[0;34m\u001b[0m\u001b[0m\n",
      "\u001b[0;32m/home/schowell/data/myPrograms/anaconda/envs/cuda/lib/python3.5/site-packages/IPython/core/interactiveshell.py\u001b[0m in \u001b[0;36mrun_line_magic\u001b[0;34m(self, magic_name, line)\u001b[0m\n\u001b[1;32m   2077\u001b[0m                 \u001b[0mkwargs\u001b[0m\u001b[0;34m[\u001b[0m\u001b[0;34m'local_ns'\u001b[0m\u001b[0;34m]\u001b[0m \u001b[0;34m=\u001b[0m \u001b[0msys\u001b[0m\u001b[0;34m.\u001b[0m\u001b[0m_getframe\u001b[0m\u001b[0;34m(\u001b[0m\u001b[0mstack_depth\u001b[0m\u001b[0;34m)\u001b[0m\u001b[0;34m.\u001b[0m\u001b[0mf_locals\u001b[0m\u001b[0;34m\u001b[0m\u001b[0m\n\u001b[1;32m   2078\u001b[0m             \u001b[0;32mwith\u001b[0m \u001b[0mself\u001b[0m\u001b[0;34m.\u001b[0m\u001b[0mbuiltin_trap\u001b[0m\u001b[0;34m:\u001b[0m\u001b[0;34m\u001b[0m\u001b[0m\n\u001b[0;32m-> 2079\u001b[0;31m                 \u001b[0mresult\u001b[0m \u001b[0;34m=\u001b[0m \u001b[0mfn\u001b[0m\u001b[0;34m(\u001b[0m\u001b[0;34m*\u001b[0m\u001b[0margs\u001b[0m\u001b[0;34m,\u001b[0m\u001b[0;34m**\u001b[0m\u001b[0mkwargs\u001b[0m\u001b[0;34m)\u001b[0m\u001b[0;34m\u001b[0m\u001b[0m\n\u001b[0m\u001b[1;32m   2080\u001b[0m             \u001b[0;32mreturn\u001b[0m \u001b[0mresult\u001b[0m\u001b[0;34m\u001b[0m\u001b[0m\n\u001b[1;32m   2081\u001b[0m \u001b[0;34m\u001b[0m\u001b[0m\n",
      "\u001b[0;32m<decorator-gen-58>\u001b[0m in \u001b[0;36mtimeit\u001b[0;34m(self, line, cell)\u001b[0m\n",
      "\u001b[0;32m/home/schowell/data/myPrograms/anaconda/envs/cuda/lib/python3.5/site-packages/IPython/core/magic.py\u001b[0m in \u001b[0;36m<lambda>\u001b[0;34m(f, *a, **k)\u001b[0m\n\u001b[1;32m    186\u001b[0m     \u001b[0;31m# but it's overkill for just that one bit of state.\u001b[0m\u001b[0;34m\u001b[0m\u001b[0;34m\u001b[0m\u001b[0m\n\u001b[1;32m    187\u001b[0m     \u001b[0;32mdef\u001b[0m \u001b[0mmagic_deco\u001b[0m\u001b[0;34m(\u001b[0m\u001b[0marg\u001b[0m\u001b[0;34m)\u001b[0m\u001b[0;34m:\u001b[0m\u001b[0;34m\u001b[0m\u001b[0m\n\u001b[0;32m--> 188\u001b[0;31m         \u001b[0mcall\u001b[0m \u001b[0;34m=\u001b[0m \u001b[0;32mlambda\u001b[0m \u001b[0mf\u001b[0m\u001b[0;34m,\u001b[0m \u001b[0;34m*\u001b[0m\u001b[0ma\u001b[0m\u001b[0;34m,\u001b[0m \u001b[0;34m**\u001b[0m\u001b[0mk\u001b[0m\u001b[0;34m:\u001b[0m \u001b[0mf\u001b[0m\u001b[0;34m(\u001b[0m\u001b[0;34m*\u001b[0m\u001b[0ma\u001b[0m\u001b[0;34m,\u001b[0m \u001b[0;34m**\u001b[0m\u001b[0mk\u001b[0m\u001b[0;34m)\u001b[0m\u001b[0;34m\u001b[0m\u001b[0m\n\u001b[0m\u001b[1;32m    189\u001b[0m \u001b[0;34m\u001b[0m\u001b[0m\n\u001b[1;32m    190\u001b[0m         \u001b[0;32mif\u001b[0m \u001b[0mcallable\u001b[0m\u001b[0;34m(\u001b[0m\u001b[0marg\u001b[0m\u001b[0;34m)\u001b[0m\u001b[0;34m:\u001b[0m\u001b[0;34m\u001b[0m\u001b[0m\n",
      "\u001b[0;32m/home/schowell/data/myPrograms/anaconda/envs/cuda/lib/python3.5/site-packages/IPython/core/magics/execution.py\u001b[0m in \u001b[0;36mtimeit\u001b[0;34m(self, line, cell)\u001b[0m\n\u001b[1;32m   1047\u001b[0m                     \u001b[0;32mbreak\u001b[0m\u001b[0;34m\u001b[0m\u001b[0m\n\u001b[1;32m   1048\u001b[0m                 \u001b[0mnumber\u001b[0m \u001b[0;34m*=\u001b[0m \u001b[0;36m10\u001b[0m\u001b[0;34m\u001b[0m\u001b[0m\n\u001b[0;32m-> 1049\u001b[0;31m         \u001b[0mall_runs\u001b[0m \u001b[0;34m=\u001b[0m \u001b[0mtimer\u001b[0m\u001b[0;34m.\u001b[0m\u001b[0mrepeat\u001b[0m\u001b[0;34m(\u001b[0m\u001b[0mrepeat\u001b[0m\u001b[0;34m,\u001b[0m \u001b[0mnumber\u001b[0m\u001b[0;34m)\u001b[0m\u001b[0;34m\u001b[0m\u001b[0m\n\u001b[0m\u001b[1;32m   1050\u001b[0m         \u001b[0mbest\u001b[0m \u001b[0;34m=\u001b[0m \u001b[0mmin\u001b[0m\u001b[0;34m(\u001b[0m\u001b[0mall_runs\u001b[0m\u001b[0;34m)\u001b[0m \u001b[0;34m/\u001b[0m \u001b[0mnumber\u001b[0m\u001b[0;34m\u001b[0m\u001b[0m\n\u001b[1;32m   1051\u001b[0m \u001b[0;34m\u001b[0m\u001b[0m\n",
      "\u001b[0;32m/home/schowell/data/myPrograms/anaconda/envs/cuda/lib/python3.5/timeit.py\u001b[0m in \u001b[0;36mrepeat\u001b[0;34m(self, repeat, number)\u001b[0m\n\u001b[1;32m    204\u001b[0m         \u001b[0mr\u001b[0m \u001b[0;34m=\u001b[0m \u001b[0;34m[\u001b[0m\u001b[0;34m]\u001b[0m\u001b[0;34m\u001b[0m\u001b[0m\n\u001b[1;32m    205\u001b[0m         \u001b[0;32mfor\u001b[0m \u001b[0mi\u001b[0m \u001b[0;32min\u001b[0m \u001b[0mrange\u001b[0m\u001b[0;34m(\u001b[0m\u001b[0mrepeat\u001b[0m\u001b[0;34m)\u001b[0m\u001b[0;34m:\u001b[0m\u001b[0;34m\u001b[0m\u001b[0m\n\u001b[0;32m--> 206\u001b[0;31m             \u001b[0mt\u001b[0m \u001b[0;34m=\u001b[0m \u001b[0mself\u001b[0m\u001b[0;34m.\u001b[0m\u001b[0mtimeit\u001b[0m\u001b[0;34m(\u001b[0m\u001b[0mnumber\u001b[0m\u001b[0;34m)\u001b[0m\u001b[0;34m\u001b[0m\u001b[0m\n\u001b[0m\u001b[1;32m    207\u001b[0m             \u001b[0mr\u001b[0m\u001b[0;34m.\u001b[0m\u001b[0mappend\u001b[0m\u001b[0;34m(\u001b[0m\u001b[0mt\u001b[0m\u001b[0;34m)\u001b[0m\u001b[0;34m\u001b[0m\u001b[0m\n\u001b[1;32m    208\u001b[0m         \u001b[0;32mreturn\u001b[0m \u001b[0mr\u001b[0m\u001b[0;34m\u001b[0m\u001b[0m\n",
      "\u001b[0;32m/home/schowell/data/myPrograms/anaconda/envs/cuda/lib/python3.5/site-packages/IPython/core/magics/execution.py\u001b[0m in \u001b[0;36mtimeit\u001b[0;34m(self, number)\u001b[0m\n\u001b[1;32m    137\u001b[0m         \u001b[0mgc\u001b[0m\u001b[0;34m.\u001b[0m\u001b[0mdisable\u001b[0m\u001b[0;34m(\u001b[0m\u001b[0;34m)\u001b[0m\u001b[0;34m\u001b[0m\u001b[0m\n\u001b[1;32m    138\u001b[0m         \u001b[0;32mtry\u001b[0m\u001b[0;34m:\u001b[0m\u001b[0;34m\u001b[0m\u001b[0m\n\u001b[0;32m--> 139\u001b[0;31m             \u001b[0mtiming\u001b[0m \u001b[0;34m=\u001b[0m \u001b[0mself\u001b[0m\u001b[0;34m.\u001b[0m\u001b[0minner\u001b[0m\u001b[0;34m(\u001b[0m\u001b[0mit\u001b[0m\u001b[0;34m,\u001b[0m \u001b[0mself\u001b[0m\u001b[0;34m.\u001b[0m\u001b[0mtimer\u001b[0m\u001b[0;34m)\u001b[0m\u001b[0;34m\u001b[0m\u001b[0m\n\u001b[0m\u001b[1;32m    140\u001b[0m         \u001b[0;32mfinally\u001b[0m\u001b[0;34m:\u001b[0m\u001b[0;34m\u001b[0m\u001b[0m\n\u001b[1;32m    141\u001b[0m             \u001b[0;32mif\u001b[0m \u001b[0mgcold\u001b[0m\u001b[0;34m:\u001b[0m\u001b[0;34m\u001b[0m\u001b[0m\n",
      "\u001b[0;32m<magic-timeit>\u001b[0m in \u001b[0;36minner\u001b[0;34m(_it, _timer)\u001b[0m\n",
      "\u001b[0;32m<ipython-input-10-67fdb285ef0d>\u001b[0m in \u001b[0;36mcuda_laplace\u001b[0;34m(n, m, debug)\u001b[0m\n\u001b[1;32m     15\u001b[0m \u001b[0;34m\u001b[0m\u001b[0m\n\u001b[1;32m     16\u001b[0m     \u001b[0mtic\u001b[0m \u001b[0;34m=\u001b[0m \u001b[0mtime\u001b[0m\u001b[0;34m.\u001b[0m\u001b[0mtime\u001b[0m\u001b[0;34m(\u001b[0m\u001b[0;34m)\u001b[0m\u001b[0;34m\u001b[0m\u001b[0m\n\u001b[0;32m---> 17\u001b[0;31m     \u001b[0miterate_a\u001b[0m\u001b[0;34m(\u001b[0m\u001b[0mA\u001b[0m\u001b[0;34m)\u001b[0m\u001b[0;34m\u001b[0m\u001b[0m\n\u001b[0m\u001b[1;32m     18\u001b[0m     \u001b[0mtoc\u001b[0m \u001b[0;34m=\u001b[0m \u001b[0mtime\u001b[0m\u001b[0;34m.\u001b[0m\u001b[0mtime\u001b[0m\u001b[0;34m(\u001b[0m\u001b[0;34m)\u001b[0m \u001b[0;34m-\u001b[0m \u001b[0mtic\u001b[0m\u001b[0;34m\u001b[0m\u001b[0m\n\u001b[1;32m     19\u001b[0m \u001b[0;34m\u001b[0m\u001b[0m\n",
      "\u001b[0;32m/home/schowell/data/myPrograms/anaconda/envs/cuda/lib/python3.5/site-packages/numba/npyufunc/deviceufunc.py\u001b[0m in \u001b[0;36m__call__\u001b[0;34m(self, *args, **kws)\u001b[0m\n\u001b[1;32m    649\u001b[0m                                                callsteps.kernel_returnvalue)\n\u001b[1;32m    650\u001b[0m         \u001b[0mcallsteps\u001b[0m\u001b[0;34m.\u001b[0m\u001b[0mlaunch_kernel\u001b[0m\u001b[0;34m(\u001b[0m\u001b[0mkernel\u001b[0m\u001b[0;34m,\u001b[0m \u001b[0mschedule\u001b[0m\u001b[0;34m.\u001b[0m\u001b[0mloopn\u001b[0m\u001b[0;34m,\u001b[0m \u001b[0mnewparams\u001b[0m \u001b[0;34m+\u001b[0m \u001b[0;34m[\u001b[0m\u001b[0mnewretval\u001b[0m\u001b[0;34m]\u001b[0m\u001b[0;34m)\u001b[0m\u001b[0;34m\u001b[0m\u001b[0m\n\u001b[0;32m--> 651\u001b[0;31m         \u001b[0;32mreturn\u001b[0m \u001b[0mcallsteps\u001b[0m\u001b[0;34m.\u001b[0m\u001b[0mpost_process_result\u001b[0m\u001b[0;34m(\u001b[0m\u001b[0;34m)\u001b[0m\u001b[0;34m\u001b[0m\u001b[0m\n\u001b[0m\u001b[1;32m    652\u001b[0m \u001b[0;34m\u001b[0m\u001b[0m\n\u001b[1;32m    653\u001b[0m     \u001b[0;32mdef\u001b[0m \u001b[0m_schedule\u001b[0m\u001b[0;34m(\u001b[0m\u001b[0mself\u001b[0m\u001b[0;34m,\u001b[0m \u001b[0minputs\u001b[0m\u001b[0;34m,\u001b[0m \u001b[0mout\u001b[0m\u001b[0;34m)\u001b[0m\u001b[0;34m:\u001b[0m\u001b[0;34m\u001b[0m\u001b[0m\n",
      "\u001b[0;32m/home/schowell/data/myPrograms/anaconda/envs/cuda/lib/python3.5/site-packages/numba/npyufunc/deviceufunc.py\u001b[0m in \u001b[0;36mpost_process_result\u001b[0;34m(self)\u001b[0m\n\u001b[1;32m    793\u001b[0m     \u001b[0;32mdef\u001b[0m \u001b[0mpost_process_result\u001b[0m\u001b[0;34m(\u001b[0m\u001b[0mself\u001b[0m\u001b[0;34m)\u001b[0m\u001b[0;34m:\u001b[0m\u001b[0;34m\u001b[0m\u001b[0m\n\u001b[1;32m    794\u001b[0m         \u001b[0;32mif\u001b[0m \u001b[0mself\u001b[0m\u001b[0;34m.\u001b[0m\u001b[0m_need_device_conversion\u001b[0m\u001b[0;34m:\u001b[0m\u001b[0;34m\u001b[0m\u001b[0m\n\u001b[0;32m--> 795\u001b[0;31m             \u001b[0mout\u001b[0m \u001b[0;34m=\u001b[0m \u001b[0mself\u001b[0m\u001b[0;34m.\u001b[0m\u001b[0mto_host\u001b[0m\u001b[0;34m(\u001b[0m\u001b[0mself\u001b[0m\u001b[0;34m.\u001b[0m\u001b[0mkernel_returnvalue\u001b[0m\u001b[0;34m,\u001b[0m \u001b[0mself\u001b[0m\u001b[0;34m.\u001b[0m\u001b[0moutput\u001b[0m\u001b[0;34m)\u001b[0m\u001b[0;34m\u001b[0m\u001b[0m\n\u001b[0m\u001b[1;32m    796\u001b[0m         \u001b[0;32melif\u001b[0m \u001b[0mself\u001b[0m\u001b[0;34m.\u001b[0m\u001b[0moutput\u001b[0m \u001b[0;32mis\u001b[0m \u001b[0;32mNone\u001b[0m\u001b[0;34m:\u001b[0m\u001b[0;34m\u001b[0m\u001b[0m\n\u001b[1;32m    797\u001b[0m             \u001b[0mout\u001b[0m \u001b[0;34m=\u001b[0m \u001b[0mself\u001b[0m\u001b[0;34m.\u001b[0m\u001b[0mkernel_returnvalue\u001b[0m\u001b[0;34m\u001b[0m\u001b[0m\n",
      "\u001b[0;32m/home/schowell/data/myPrograms/anaconda/envs/cuda/lib/python3.5/site-packages/numba/cuda/dispatcher.py\u001b[0m in \u001b[0;36mto_host\u001b[0;34m(self, devary, hostary)\u001b[0m\n\u001b[1;32m    153\u001b[0m \u001b[0;34m\u001b[0m\u001b[0m\n\u001b[1;32m    154\u001b[0m     \u001b[0;32mdef\u001b[0m \u001b[0mto_host\u001b[0m\u001b[0;34m(\u001b[0m\u001b[0mself\u001b[0m\u001b[0;34m,\u001b[0m \u001b[0mdevary\u001b[0m\u001b[0;34m,\u001b[0m \u001b[0mhostary\u001b[0m\u001b[0;34m)\u001b[0m\u001b[0;34m:\u001b[0m\u001b[0;34m\u001b[0m\u001b[0m\n\u001b[0;32m--> 155\u001b[0;31m         \u001b[0mout\u001b[0m \u001b[0;34m=\u001b[0m \u001b[0mdevary\u001b[0m\u001b[0;34m.\u001b[0m\u001b[0mcopy_to_host\u001b[0m\u001b[0;34m(\u001b[0m\u001b[0mhostary\u001b[0m\u001b[0;34m,\u001b[0m \u001b[0mstream\u001b[0m\u001b[0;34m=\u001b[0m\u001b[0mself\u001b[0m\u001b[0;34m.\u001b[0m\u001b[0m_stream\u001b[0m\u001b[0;34m)\u001b[0m\u001b[0;34m\u001b[0m\u001b[0m\n\u001b[0m\u001b[1;32m    156\u001b[0m         \u001b[0;32mreturn\u001b[0m \u001b[0mout\u001b[0m\u001b[0;34m\u001b[0m\u001b[0m\n\u001b[1;32m    157\u001b[0m \u001b[0;34m\u001b[0m\u001b[0m\n",
      "\u001b[0;32m/home/schowell/data/myPrograms/anaconda/envs/cuda/lib/python3.5/site-packages/numba/cuda/cudadrv/devicearray.py\u001b[0m in \u001b[0;36mcopy_to_host\u001b[0;34m(self, ary, stream)\u001b[0m\n\u001b[1;32m    196\u001b[0m         \u001b[0;32massert\u001b[0m \u001b[0mself\u001b[0m\u001b[0;34m.\u001b[0m\u001b[0malloc_size\u001b[0m \u001b[0;34m>=\u001b[0m \u001b[0;36m0\u001b[0m\u001b[0;34m,\u001b[0m \u001b[0;34m\"Negative memory size\"\u001b[0m\u001b[0;34m\u001b[0m\u001b[0m\n\u001b[1;32m    197\u001b[0m         \u001b[0;32mif\u001b[0m \u001b[0mself\u001b[0m\u001b[0;34m.\u001b[0m\u001b[0malloc_size\u001b[0m \u001b[0;34m!=\u001b[0m \u001b[0;36m0\u001b[0m\u001b[0;34m:\u001b[0m\u001b[0;34m\u001b[0m\u001b[0m\n\u001b[0;32m--> 198\u001b[0;31m             \u001b[0m_driver\u001b[0m\u001b[0;34m.\u001b[0m\u001b[0mdevice_to_host\u001b[0m\u001b[0;34m(\u001b[0m\u001b[0mhostary\u001b[0m\u001b[0;34m,\u001b[0m \u001b[0mself\u001b[0m\u001b[0;34m,\u001b[0m \u001b[0mself\u001b[0m\u001b[0;34m.\u001b[0m\u001b[0malloc_size\u001b[0m\u001b[0;34m,\u001b[0m \u001b[0mstream\u001b[0m\u001b[0;34m=\u001b[0m\u001b[0mstream\u001b[0m\u001b[0;34m)\u001b[0m\u001b[0;34m\u001b[0m\u001b[0m\n\u001b[0m\u001b[1;32m    199\u001b[0m \u001b[0;34m\u001b[0m\u001b[0m\n\u001b[1;32m    200\u001b[0m         \u001b[0;32mif\u001b[0m \u001b[0mary\u001b[0m \u001b[0;32mis\u001b[0m \u001b[0;32mNone\u001b[0m\u001b[0;34m:\u001b[0m\u001b[0;34m\u001b[0m\u001b[0m\n",
      "\u001b[0;32m/home/schowell/data/myPrograms/anaconda/envs/cuda/lib/python3.5/site-packages/numba/cuda/cudadrv/driver.py\u001b[0m in \u001b[0;36mdevice_to_host\u001b[0;34m(dst, src, size, stream)\u001b[0m\n\u001b[1;32m   1479\u001b[0m         \u001b[0mfn\u001b[0m \u001b[0;34m=\u001b[0m \u001b[0mdriver\u001b[0m\u001b[0;34m.\u001b[0m\u001b[0mcuMemcpyDtoH\u001b[0m\u001b[0;34m\u001b[0m\u001b[0m\n\u001b[1;32m   1480\u001b[0m \u001b[0;34m\u001b[0m\u001b[0m\n\u001b[0;32m-> 1481\u001b[0;31m     \u001b[0mfn\u001b[0m\u001b[0;34m(\u001b[0m\u001b[0mhost_pointer\u001b[0m\u001b[0;34m(\u001b[0m\u001b[0mdst\u001b[0m\u001b[0;34m)\u001b[0m\u001b[0;34m,\u001b[0m \u001b[0mdevice_pointer\u001b[0m\u001b[0;34m(\u001b[0m\u001b[0msrc\u001b[0m\u001b[0;34m)\u001b[0m\u001b[0;34m,\u001b[0m \u001b[0msize\u001b[0m\u001b[0;34m,\u001b[0m \u001b[0;34m*\u001b[0m\u001b[0mvarargs\u001b[0m\u001b[0;34m)\u001b[0m\u001b[0;34m\u001b[0m\u001b[0m\n\u001b[0m\u001b[1;32m   1482\u001b[0m \u001b[0;34m\u001b[0m\u001b[0m\n\u001b[1;32m   1483\u001b[0m \u001b[0;34m\u001b[0m\u001b[0m\n",
      "\u001b[0;32m/home/schowell/data/myPrograms/anaconda/envs/cuda/lib/python3.5/site-packages/numba/cuda/cudadrv/driver.py\u001b[0m in \u001b[0;36msafe_cuda_api_call\u001b[0;34m(*args)\u001b[0m\n\u001b[1;32m    257\u001b[0m             \u001b[0m_logger\u001b[0m\u001b[0;34m.\u001b[0m\u001b[0mdebug\u001b[0m\u001b[0;34m(\u001b[0m\u001b[0;34m'call driver api: %s'\u001b[0m\u001b[0;34m,\u001b[0m \u001b[0mlibfn\u001b[0m\u001b[0;34m.\u001b[0m\u001b[0m__name__\u001b[0m\u001b[0;34m)\u001b[0m\u001b[0;34m\u001b[0m\u001b[0m\n\u001b[1;32m    258\u001b[0m             \u001b[0mretcode\u001b[0m \u001b[0;34m=\u001b[0m \u001b[0mlibfn\u001b[0m\u001b[0;34m(\u001b[0m\u001b[0;34m*\u001b[0m\u001b[0margs\u001b[0m\u001b[0;34m)\u001b[0m\u001b[0;34m\u001b[0m\u001b[0m\n\u001b[0;32m--> 259\u001b[0;31m             \u001b[0mself\u001b[0m\u001b[0;34m.\u001b[0m\u001b[0m_check_error\u001b[0m\u001b[0;34m(\u001b[0m\u001b[0mfname\u001b[0m\u001b[0;34m,\u001b[0m \u001b[0mretcode\u001b[0m\u001b[0;34m)\u001b[0m\u001b[0;34m\u001b[0m\u001b[0m\n\u001b[0m\u001b[1;32m    260\u001b[0m \u001b[0;34m\u001b[0m\u001b[0m\n\u001b[1;32m    261\u001b[0m         \u001b[0msetattr\u001b[0m\u001b[0;34m(\u001b[0m\u001b[0mself\u001b[0m\u001b[0;34m,\u001b[0m \u001b[0mfname\u001b[0m\u001b[0;34m,\u001b[0m \u001b[0msafe_cuda_api_call\u001b[0m\u001b[0;34m)\u001b[0m\u001b[0;34m\u001b[0m\u001b[0m\n",
      "\u001b[0;32m/home/schowell/data/myPrograms/anaconda/envs/cuda/lib/python3.5/site-packages/numba/cuda/cudadrv/driver.py\u001b[0m in \u001b[0;36m_check_error\u001b[0;34m(self, fname, retcode)\u001b[0m\n\u001b[1;32m    294\u001b[0m                     \u001b[0m_logger\u001b[0m\u001b[0;34m.\u001b[0m\u001b[0mcritical\u001b[0m\u001b[0;34m(\u001b[0m\u001b[0mmsg\u001b[0m\u001b[0;34m,\u001b[0m \u001b[0m_getpid\u001b[0m\u001b[0;34m(\u001b[0m\u001b[0;34m)\u001b[0m\u001b[0;34m,\u001b[0m \u001b[0mself\u001b[0m\u001b[0;34m.\u001b[0m\u001b[0mpid\u001b[0m\u001b[0;34m)\u001b[0m\u001b[0;34m\u001b[0m\u001b[0m\n\u001b[1;32m    295\u001b[0m                     \u001b[0;32mraise\u001b[0m \u001b[0mCudaDriverError\u001b[0m\u001b[0;34m(\u001b[0m\u001b[0;34m\"CUDA initialized before forking\"\u001b[0m\u001b[0;34m)\u001b[0m\u001b[0;34m\u001b[0m\u001b[0m\n\u001b[0;32m--> 296\u001b[0;31m             \u001b[0;32mraise\u001b[0m \u001b[0mCudaAPIError\u001b[0m\u001b[0;34m(\u001b[0m\u001b[0mretcode\u001b[0m\u001b[0;34m,\u001b[0m \u001b[0mmsg\u001b[0m\u001b[0;34m)\u001b[0m\u001b[0;34m\u001b[0m\u001b[0m\n\u001b[0m\u001b[1;32m    297\u001b[0m \u001b[0;34m\u001b[0m\u001b[0m\n\u001b[1;32m    298\u001b[0m     \u001b[0;32mdef\u001b[0m \u001b[0mget_device\u001b[0m\u001b[0;34m(\u001b[0m\u001b[0mself\u001b[0m\u001b[0;34m,\u001b[0m \u001b[0mdevnum\u001b[0m\u001b[0;34m=\u001b[0m\u001b[0;36m0\u001b[0m\u001b[0;34m)\u001b[0m\u001b[0;34m:\u001b[0m\u001b[0;34m\u001b[0m\u001b[0m\n",
      "\u001b[0;31mCudaAPIError\u001b[0m: [702] Call to cuMemcpyDtoH results in CUDA_ERROR_LAUNCH_TIMEOUT"
     ]
    }
   ],
   "source": [
    "cuda_res = {}\n",
    "for n in N:\n",
    "    res = %timeit -o -n 3 cuda_laplace(n, n)\n",
    "    cuda_res[n] = res\n",
    "pickle.dump(cuda_res, open('cuda_times.p', 'wb'))"
   ]
  },
  {
   "cell_type": "markdown",
   "metadata": {},
   "source": [
    "## use this with CPU and Parallel"
   ]
  },
  {
   "cell_type": "code",
   "execution_count": 20,
   "metadata": {
    "collapsed": false
   },
   "outputs": [],
   "source": [
    "@guvectorize([\n",
    "        'float32[:,:], float32[:,:]',\n",
    "        'float64[:,:], float64[:,:]',\n",
    "    ], '(n,m)->(n,m)', target='cpu', nopython=True)\n",
    "def cpu_iterate_a(A, Anew):\n",
    "    n, m = A.shape\n",
    "    tol = 1.0e-5\n",
    "    iteration_max = 1000\n",
    "    error = 1.0\n",
    "    iteration = 0\n",
    "\n",
    "    # main loop\n",
    "    while error > tol and iteration < iteration_max:\n",
    "        error = 0.0\n",
    "        for j in range(1, n-1):\n",
    "            for i in range(1, m-1):\n",
    "                Anew[j, i] = 0.25 * (A[j, i+1] + A[j, i-1] + A[j-1, i] + A[j+1, i])\n",
    "                diff = abs(Anew[j, i] - A[j, i])\n",
    "                if diff > error:\n",
    "                    error = diff\n",
    "        \n",
    "        for j in range(1, n-1):\n",
    "            for i in range(1, m-1):\n",
    "                A[j, i] = Anew[j, i]\n",
    "\n",
    "        iteration += 1"
   ]
  },
  {
   "cell_type": "code",
   "execution_count": 21,
   "metadata": {
    "collapsed": false
   },
   "outputs": [],
   "source": [
    "def cpu_laplace(n=4096, m=4096, debug=False):\n",
    "\n",
    "    dtype=np.float32\n",
    "    \n",
    "    pi = np.pi\n",
    "    \n",
    "    A = np.zeros((n, m), dtype=dtype)\n",
    "\n",
    "    j_range = np.arange(n)\n",
    "    y0 = np.sin(pi * j_range / (n - 1))\n",
    "    A[:, 0]  = y0\n",
    "    A[:, -1] = y0 * np.exp(-pi)\n",
    "\n",
    "    if debug: print('Jacobi relaxation Calculation: {} x {} mesh\\n'.format(n, m))\n",
    "\n",
    "    tic = time.time()\n",
    "    cpu_iterate_a(A)\n",
    "    toc = time.time() - tic\n",
    "\n",
    "    if debug: print(\" total: {} s\\n\".format(toc))\n",
    "    \n",
    "    return A"
   ]
  },
  {
   "cell_type": "code",
   "execution_count": 22,
   "metadata": {
    "collapsed": false
   },
   "outputs": [
    {
     "name": "stdout",
     "output_type": "stream",
     "text": [
      "Jacobi relaxation Calculation: 16 x 16 mesh\n",
      "\n",
      " total: 0.00041365623474121094 s\n",
      "\n"
     ]
    }
   ],
   "source": [
    "res = cpu_laplace(16, 16, debug=True)"
   ]
  },
  {
   "cell_type": "code",
   "execution_count": 24,
   "metadata": {
    "collapsed": false
   },
   "outputs": [
    {
     "data": {
      "text/plain": [
       "array([[ 0.        ,  0.        ,  0.        ,  0.        ],\n",
       "       [ 0.20791169,  0.16873163,  0.13692765,  0.11111137],\n",
       "       [ 0.40673664,  0.33008888,  0.2678709 ,  0.21736664],\n",
       "       [ 0.58778524,  0.47701967,  0.3871069 ,  0.31412193]], dtype=float32)"
      ]
     },
     "execution_count": 24,
     "metadata": {},
     "output_type": "execute_result"
    }
   ],
   "source": [
    "res[:4, :4]"
   ]
  },
  {
   "cell_type": "code",
   "execution_count": 26,
   "metadata": {
    "collapsed": false
   },
   "outputs": [
    {
     "name": "stdout",
     "output_type": "stream",
     "text": [
      "Jacobi relaxation Calculation: 512 x 512 mesh\n",
      "\n",
      " total: 1.9225044250488281 s\n",
      "\n"
     ]
    }
   ],
   "source": [
    "# think this crashes...\n",
    "%lprun -f cpu_laplace cpu_laplace(512,512,debug=True) # do not use spaces, it confuses the profiler"
   ]
  },
  {
   "cell_type": "code",
   "execution_count": null,
   "metadata": {
    "collapsed": false,
    "scrolled": true
   },
   "outputs": [
    {
     "name": "stdout",
     "output_type": "stream",
     "text": [
      "3 loops, best of 3: 49.3 µs per loop\n",
      "3 loops, best of 3: 68 µs per loop\n",
      "3 loops, best of 3: 436 µs per loop\n",
      "3 loops, best of 3: 4.35 ms per loop\n",
      "3 loops, best of 3: 12.8 ms per loop\n",
      "3 loops, best of 3: 50.3 ms per loop\n",
      "3 loops, best of 3: 197 ms per loop\n",
      "3 loops, best of 3: 1.68 s per loop\n",
      "3 loops, best of 3: 6.54 s per loop\n"
     ]
    }
   ],
   "source": [
    "cpu_res = {}\n",
    "for n in N:\n",
    "    res = %timeit -o -n 3 cpu_laplace(n, n)\n",
    "    cpu_res[n] = res\n",
    "pickle.dump(cpu_res, open('cpu_times_v2.p', 'wb'))"
   ]
  },
  {
   "cell_type": "code",
   "execution_count": null,
   "metadata": {
    "collapsed": true
   },
   "outputs": [],
   "source": []
  },
  {
   "cell_type": "code",
   "execution_count": null,
   "metadata": {
    "collapsed": false
   },
   "outputs": [],
   "source": [
    "@guvectorize([\n",
    "        'float32[:,:], float32[:,:]',\n",
    "        'float64[:,:], float64[:,:]',\n",
    "    ], '(n,m)->(n,m)', target='parallel', nopython=True)\n",
    "def par_iterate_a(A, Anew):\n",
    "    n, m = A.shape\n",
    "    tol = 1.0e-5\n",
    "    iteration_max = 1000\n",
    "    error = 1.0\n",
    "    iteration = 0\n",
    "\n",
    "    # main loop\n",
    "    while error > tol and iteration < iteration_max:\n",
    "        error = 0.0\n",
    "        for j in range(1, n-1):\n",
    "            for i in range(1, m-1):\n",
    "                Anew[j, i] = 0.25 * (A[j, i+1] + A[j, i-1] + A[j-1, i] + A[j+1, i])\n",
    "                diff = abs(Anew[j, i] - A[j, i])\n",
    "                if diff > error:\n",
    "                    error = diff\n",
    "        \n",
    "        for j in range(1, n-1):\n",
    "            for i in range(1, m-1):\n",
    "                A[j, i] = Anew[j, i]\n",
    "\n",
    "        iteration += 1"
   ]
  },
  {
   "cell_type": "code",
   "execution_count": null,
   "metadata": {
    "collapsed": false
   },
   "outputs": [],
   "source": [
    "def par_laplace(n=4096, m=4096, debug=False):\n",
    "\n",
    "    dtype=np.float32\n",
    "    \n",
    "    pi = np.pi\n",
    "    \n",
    "    A = np.zeros((n, m), dtype=dtype)\n",
    "\n",
    "    j_range = np.arange(n)\n",
    "    y0 = np.sin(pi * j_range / (n - 1))\n",
    "    A[:, 0]  = y0\n",
    "    A[:, -1] = y0 * np.exp(-pi)\n",
    "\n",
    "    if debug: print('Jacobi relaxation Calculation: {} x {} mesh\\n'.format(n, m))\n",
    "\n",
    "    tic = time.time()\n",
    "    par_iterate_a(A)\n",
    "    toc = time.time() - tic\n",
    "\n",
    "    if debug: print(\" total: {} s\\n\".format(toc))\n",
    "    \n",
    "    return A"
   ]
  },
  {
   "cell_type": "code",
   "execution_count": null,
   "metadata": {
    "collapsed": false
   },
   "outputs": [],
   "source": [
    "res = par_laplace(16, 16, debug=True)"
   ]
  },
  {
   "cell_type": "code",
   "execution_count": null,
   "metadata": {
    "collapsed": false
   },
   "outputs": [],
   "source": [
    "res[:4, :4]"
   ]
  },
  {
   "cell_type": "code",
   "execution_count": null,
   "metadata": {
    "collapsed": false
   },
   "outputs": [],
   "source": [
    "# think this crashes...\n",
    "%lprun -f par_laplace par_laplace(512,512,debug=True) # do not use spaces, it confuses the profiler"
   ]
  },
  {
   "cell_type": "code",
   "execution_count": null,
   "metadata": {
    "collapsed": false,
    "scrolled": true
   },
   "outputs": [],
   "source": [
    "par_res = {}\n",
    "for n in N:\n",
    "    res = %timeit -o -n 3 par_laplace(n, n)\n",
    "    par_res[n] = res\n",
    "pickle.dump(par_res, open('par_times_v2.p', 'wb'))"
   ]
  },
  {
   "cell_type": "code",
   "execution_count": null,
   "metadata": {
    "collapsed": true
   },
   "outputs": [],
   "source": []
  }
 ],
 "metadata": {
  "anaconda-cloud": {},
  "kernelspec": {
   "display_name": "Python [conda env:cuda]",
   "language": "python",
   "name": "conda-env-cuda-py"
  },
  "language_info": {
   "codemirror_mode": {
    "name": "ipython",
    "version": 3
   },
   "file_extension": ".py",
   "mimetype": "text/x-python",
   "name": "python",
   "nbconvert_exporter": "python",
   "pygments_lexer": "ipython3",
   "version": "3.5.2"
  }
 },
 "nbformat": 4,
 "nbformat_minor": 1
}
